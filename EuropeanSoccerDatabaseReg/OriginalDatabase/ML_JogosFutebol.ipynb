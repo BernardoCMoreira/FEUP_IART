{
 "cells": [
  {
   "cell_type": "markdown",
   "metadata": {},
   "source": [
    "# <font color=black>Aprendizagem Supervisionada em Machine Learning (Regressão) <br> Previsão da diferença de golos em jogos de futebol </font> \n"
   ]
  },
  {
   "cell_type": "markdown",
   "metadata": {},
   "source": [
    "### <font color=black>Trabalho realizado por: </font> "
   ]
  },
  {
   "cell_type": "markdown",
   "metadata": {},
   "source": [
    "- Bernardo Costa Moreira - up201604014\n",
    "- Filipe Carlos de Almeida Duarte da Cunha Nogueira - up201604129\n",
    "- Francisco Jorge de Almeida Henriques Pereira - up201605306\n"
   ]
  },
  {
   "cell_type": "markdown",
   "metadata": {},
   "source": [
    "## <font color=black>Introdução</font> "
   ]
  },
  {
   "cell_type": "markdown",
   "metadata": {},
   "source": [
    "Este trabalho tem como finalidade aplicar os conceitos dados nas aulas teóricas e práticas sobre a aprendizagem supervisionada, mais especificamente regressão, sobre os dados fornecidos pelo Kaggle (European Soccer Database). No fim, os algoritmos usados deveriam fornecer uma previsão da diferença de golos resultante de cada jogo.<br>\n",
    "<br>\n",
    "European Soccer Database fornecida pelo Kaggle é uma base de dados que contém toda a informação sobre os jogadores, equipas, jogos, etc, utilizada neste trabalho. Estes dados foram gerados a partir de situações reais e são recolhidos anualmente.<br>\n",
    "<br>\n",
    "Devido ao grande volume de dados, esta tarefa torna-se perfeita para a aplicação de técnicas de Machine Learning. Os algoritmos de Machine Learning, a partir de inputs amostrais, funcionam através da construção de um modelo que é utilizado para fazer previsões ou decisões de acordo com os dados fornecidos. Deste modo, neste trabalho iremos utilizar algoritmos de aprendizagem supervisionada, nomeadamente Árvores de Decisão, Redes Neuronais e Suporte de Máquinas Vetoriais, para resolver o problema do tipo regressão mencionado anteriormente."
   ]
  },
  {
   "cell_type": "markdown",
   "metadata": {},
   "source": [
    "## <font color=black>Descrição da Base de Dados e do Problema</font> "
   ]
  },
  {
   "cell_type": "markdown",
   "metadata": {},
   "source": [
    "A base de dados fornecida contém informação sobre jogos de futebol ao longo do período de 2008 a 2016. Está incluído conteúdo respetivo a mais de 11 ligas e respectivas equipas, dados sobre mais de 10000 jogadores e mais de 25000 partidas. É possível ainda encontrar informação de odds relativo a cada partida, nomeadamente odds da vitória da equipa de casa, empate ou vitória da equipa de fora.<br>\n",
    "<br>\n",
    "É possível encontrar no site onde a base de dados é disponibilizada (Kaggle), um aviso quanto à falta de informação associada a algumas partidas, aspeto a ter em conta posteriormente no pré-processamento de dados. <br>\n",
    "<br>\n",
    "A informação está distribuída por várias tabelas, sendo estas:<br>\n",
    "*Nota: é possível notar nos atributos de alguma tabelas a terminação _api_id  que contém “foreign keys” das fontes originais de dados. <br>\n",
    "   - Country\n",
    "        - id (identificador do país)\n",
    "        - name (nome do país)\n",
    "        \n",
    "   - League:\n",
    "        - id (identificador da liga)\n",
    "        - country_id (relativo ao país em que a liga está inserida - Tabela Country)\n",
    "        - name (nome da liga)\n",
    "        \n",
    "   - Match\n",
    "        - id (identificador match)\n",
    "        - country_id (relativo ao país em que a liga está inserida - Tabela Country)\n",
    "        - league_id (relativo à liga em que está inserida - Tabela Country)\n",
    "        - season (temporada)\n",
    "        - stage (jornada)\n",
    "        - date (data do jogo)\n",
    "        - match_api_id (identificador da partida)\n",
    "        - home_team_api_id (identificador da equipa da casa)\n",
    "        - away_team_api_id (identificador da equipa de fora)\n",
    "        - home_team_goal (golos da equipa da casa)\n",
    "        - away_team_goal (golos da equipa de fora)\n",
    "        - (home/away)_player_(Xn/Yn) (posições dos jogadores no alinhamento)\n",
    "        - (home/away)_player_(n) (identificador dos jogadores que jogaram a partida - player_api_id)\n",
    "        - goal/shot_on/shot_off/foul_commit/card/cross/corner/possession (detalhes após jogo)\n",
    "        - (gambling_house_name)H (odds da vitória para a equipa da casa)\n",
    "        - (gambling_house_name)D (odds para empate)\n",
    "        - (gambling_house_name)A (odds da vitória para a equipa de fora)   \n",
    "        \n",
    "   - Player\n",
    "        - id (identificador do jogador nesta tabela)\n",
    "        - player_api_id (identificador do jogador)\n",
    "        - player_name (nome do jogador)\n",
    "        - player_fifa_api_id (identificador do jogador nos dados do FIFA)\n",
    "        - birthday (aniversário)\n",
    "        - height (altura)\n",
    "        - weight (peso)\n",
    "\n",
    "   - Player_Attributes\n",
    "        - id (identificador do jogador nesta tabela)\n",
    "        - player_fifa_api_id (identificador do jogador nos dados do FIFA)\n",
    "        - player_api_id (identificador do jogador)\n",
    "        - date (data de registo das informações do tuplo ao qual este atributo pertence)\n",
    "        - overall_rating (rating geral do jogador )\n",
    "        - potential (potêncial)\n",
    "        - preferred_foot (pé de preferência do jogador)\n",
    "        - attacking_work_rate (taxa de ofensiva do jogador)\n",
    "        - defensive_work_rate (taxa defensiva do jogador)\n",
    "        - crossing (habilidade de cruzamento)\n",
    "        \n",
    "   - Team\n",
    "        - id (identificador da equipa nesta tabela)\n",
    "        - team_api_id (identificador da equipa)\n",
    "        - team_fifa_api_id (identificador da equipa do FIFA)\n",
    "        - team_long_name (nome completo da equipa)\n",
    "        - team_short_name (abreviatura do nome da equipa)\n",
    "    \n",
    "   - Team_Attributes\n",
    "        - id (identificador da equipa nesta tabela)\n",
    "        - team_fifa_api_id (identificador da equipa do FIFA)\n",
    "        - team_api_id (identificador da equipa)\n",
    "        - date (data de registo das informações do tuplo ao qual este atributo pertence)\n",
    "        - buildUpPlaySpeed (velocidade de construção de jogadas da equipa)\n",
    "        - buildUpPlaySpeedClass (velocidade classificativa de construção de jogadas da equipa)\n",
    "        - buildUpPlayDribbling (capacidade de drible da equipa)\n",
    "        - buildUpPlayDribblingClass (capacidade classificativa de drible da equipa)\n",
    "        - buildUpPlayPassing (efetividade dos passes da equipa)\n",
    "        - buildUpPlayPassingClass (efetividade classificativa dos passes da equipa)\n",
    "            \n",
    "<br>O objetivo do nosso trabalho passaria por estimar a diferença de golos para cada partida, calculado da seguinte forma (a diferença pode ser negativa significando vitória da equipa de fora):<br> \n",
    "<br>&emsp;&emsp;&emsp;  $ dif_{golos}=golos_{casa} - golos_{fora} $ <br>     \n",
    "A base de dados possui um extenso set de informação, no entanto, nem todo o conteúdo é relevante para a nossa análise. Para tal, passaremos à explicação das técnicas e métodos utilizados para a seleção de dados.\n",
    "\n"
   ]
  },
  {
   "cell_type": "markdown",
   "metadata": {},
   "source": [
    "## <font color=black>Abordagem e Pré-Processamento de Dados</font> "
   ]
  },
  {
   "cell_type": "code",
   "execution_count": 1,
   "metadata": {},
   "outputs": [],
   "source": [
    "import pandas as pd\n",
    "import numpy as np"
   ]
  },
  {
   "cell_type": "code",
   "execution_count": 2,
   "metadata": {},
   "outputs": [],
   "source": [
    "# Read all files \n",
    "country = pd.read_csv('Country_Original.csv')\n",
    "league = pd.read_csv('League_Original.csv')\n",
    "match = pd.read_csv('Match_Original.csv')\n",
    "player = pd.read_csv('Player_Original.csv')\n",
    "player_attributes = pd.read_csv('Player_Attributes_Original.csv')\n",
    "team = pd.read_csv('Team_Original.csv')\n",
    "team_attributes = pd.read_csv('Team_Attributes_Original.csv')\n",
    "\n",
    "pd.set_option('display.max_rows', None)\n",
    "pd.set_option('display.max_columns', None)"
   ]
  },
  {
   "cell_type": "markdown",
   "metadata": {},
   "source": [
    "### <font color=black>Organização e Limpeza de Dados</font> \n",
    "\n",
    "Pretendemos nesta secção do trabalho reduzir e tratar os dados de forma a que não exista informação irrelevante para o modelo que pretendemos construir.\n",
    "\n",
    "### <font color=black> - Eliminação de Valores Nulos</font>\n",
    "De forma a termos uma base de dados organizada e sem ruído, decidimos realizar várias alterações e tratamentos à base de dados fornecida.\n",
    "Começamos por remover os atributos que consideramos que não acrescentariam valor ao nosso algoritmo."
   ]
  },
  {
   "cell_type": "code",
   "execution_count": 3,
   "metadata": {},
   "outputs": [],
   "source": [
    "# Eliminar atributos relativos à posição dos jogadores\n",
    "player_attributes.drop(player_attributes.columns.to_series()[\"potential\":], axis=1, inplace = True)\n"
   ]
  },
  {
   "cell_type": "markdown",
   "metadata": {},
   "source": [
    "Neste caso escolhemos **remover os valores duplicados**, caso estes existam"
   ]
  },
  {
   "cell_type": "code",
   "execution_count": 4,
   "metadata": {},
   "outputs": [],
   "source": [
    "# Eliminar duplicados caso existam\n",
    "player_attributes.drop_duplicates(keep = False, inplace = True)"
   ]
  },
  {
   "cell_type": "markdown",
   "metadata": {},
   "source": [
    "Dado que consideramos o atributo *overall_rating* bastante importante na avaliação do jogador, caso este atributo seja nulo,\n",
    "deverá ser removido."
   ]
  },
  {
   "cell_type": "code",
   "execution_count": 5,
   "metadata": {},
   "outputs": [
    {
     "data": {
      "text/plain": [
       "0"
      ]
     },
     "execution_count": 5,
     "metadata": {},
     "output_type": "execute_result"
    }
   ],
   "source": [
    "# Verficar se existe overall_ratings null\n",
    "player_attributes.dropna(axis=0, how=\"any\", subset =['overall_rating'], inplace=True)\n",
    "player_attributes['overall_rating'].isnull().sum()"
   ]
  },
  {
   "cell_type": "markdown",
   "metadata": {},
   "source": [
    "Por forma a organizar e limpar os dados, decidimos, uma vez mais, remover colunas que na nossa opinião não seriam fulcrais para o desenvolvimento deste projeto, dando assim preferência a um conjunto de dados bem organizado\n"
   ]
  },
  {
   "cell_type": "code",
   "execution_count": 6,
   "metadata": {
    "scrolled": true
   },
   "outputs": [],
   "source": [
    "# Eliminar atributos relativos à posição dos jogadores\n",
    "match.drop(match.columns.to_series()[\"home_player_X1\":\"away_player_Y11\"], axis=1, inplace = True)\n",
    "# Eliminar os seguintes atributos -> shoton, shotoff, foulcommit, card, cross, corner, possession\n",
    "match.drop(match.columns.to_series()[\"goal\":\"possession\"], axis=1,inplace = True)"
   ]
  },
  {
   "cell_type": "code",
   "execution_count": 7,
   "metadata": {},
   "outputs": [],
   "source": [
    "#Organizar dados por datas, do passado para o presente\n",
    "match['date'] = match['date'].astype('datetime64[ns]')\n",
    "match = match.sort_values(by=['date'], ascending=True)"
   ]
  },
  {
   "cell_type": "markdown",
   "metadata": {},
   "source": [
    "Todas as linhas que **não tiverem informação sobre jogadores** são consideradas *lixo ou ruido* e consequentemente são removidas"
   ]
  },
  {
   "cell_type": "code",
   "execution_count": 8,
   "metadata": {},
   "outputs": [],
   "source": [
    "#Eliminar todos as linhas que não tenham nenhuma info sobre os jogadores\n",
    "match = match.dropna(axis=0, how=\"all\", subset=match.columns.to_series()[\"home_player_1\":\"away_player_11\"])"
   ]
  },
  {
   "cell_type": "code",
   "execution_count": 9,
   "metadata": {},
   "outputs": [],
   "source": [
    "#Eliminar todas as linhas que não tenham nenhuma odd relativa ao jogo\n",
    "match.dropna(axis=0, how=\"all\", subset=match.columns.to_series()[\"B365H\":], inplace=True)"
   ]
  },
  {
   "cell_type": "markdown",
   "metadata": {},
   "source": [
    " Foi definido um limite minimo de **8 Jogadores**, isto é, caso alguma linha contenha informação sobre menos de 8 jogadores, esta será imediatamente removida"
   ]
  },
  {
   "cell_type": "code",
   "execution_count": 10,
   "metadata": {},
   "outputs": [
    {
     "data": {
      "text/html": [
       "<div>\n",
       "<style scoped>\n",
       "    .dataframe tbody tr th:only-of-type {\n",
       "        vertical-align: middle;\n",
       "    }\n",
       "\n",
       "    .dataframe tbody tr th {\n",
       "        vertical-align: top;\n",
       "    }\n",
       "\n",
       "    .dataframe thead th {\n",
       "        text-align: right;\n",
       "    }\n",
       "</style>\n",
       "<table border=\"1\" class=\"dataframe\">\n",
       "  <thead>\n",
       "    <tr style=\"text-align: right;\">\n",
       "      <th></th>\n",
       "      <th>id</th>\n",
       "      <th>country_id</th>\n",
       "      <th>league_id</th>\n",
       "      <th>season</th>\n",
       "      <th>stage</th>\n",
       "      <th>date</th>\n",
       "      <th>match_api_id</th>\n",
       "      <th>home_team_api_id</th>\n",
       "      <th>away_team_api_id</th>\n",
       "      <th>home_team_goal</th>\n",
       "      <th>away_team_goal</th>\n",
       "      <th>home_player_1</th>\n",
       "      <th>home_player_2</th>\n",
       "      <th>home_player_3</th>\n",
       "      <th>home_player_4</th>\n",
       "      <th>home_player_5</th>\n",
       "      <th>home_player_6</th>\n",
       "      <th>home_player_7</th>\n",
       "      <th>home_player_8</th>\n",
       "      <th>home_player_9</th>\n",
       "      <th>home_player_10</th>\n",
       "      <th>home_player_11</th>\n",
       "      <th>away_player_1</th>\n",
       "      <th>away_player_2</th>\n",
       "      <th>away_player_3</th>\n",
       "      <th>away_player_4</th>\n",
       "      <th>away_player_5</th>\n",
       "      <th>away_player_6</th>\n",
       "      <th>away_player_7</th>\n",
       "      <th>away_player_8</th>\n",
       "      <th>away_player_9</th>\n",
       "      <th>away_player_10</th>\n",
       "      <th>away_player_11</th>\n",
       "      <th>B365H</th>\n",
       "      <th>B365D</th>\n",
       "      <th>B365A</th>\n",
       "      <th>BWH</th>\n",
       "      <th>BWD</th>\n",
       "      <th>BWA</th>\n",
       "      <th>IWH</th>\n",
       "      <th>IWD</th>\n",
       "      <th>IWA</th>\n",
       "      <th>LBH</th>\n",
       "      <th>LBD</th>\n",
       "      <th>LBA</th>\n",
       "      <th>PSH</th>\n",
       "      <th>PSD</th>\n",
       "      <th>PSA</th>\n",
       "      <th>WHH</th>\n",
       "      <th>WHD</th>\n",
       "      <th>WHA</th>\n",
       "      <th>SJH</th>\n",
       "      <th>SJD</th>\n",
       "      <th>SJA</th>\n",
       "      <th>VCH</th>\n",
       "      <th>VCD</th>\n",
       "      <th>VCA</th>\n",
       "      <th>GBH</th>\n",
       "      <th>GBD</th>\n",
       "      <th>GBA</th>\n",
       "      <th>BSH</th>\n",
       "      <th>BSD</th>\n",
       "      <th>BSA</th>\n",
       "    </tr>\n",
       "  </thead>\n",
       "  <tbody>\n",
       "  </tbody>\n",
       "</table>\n",
       "</div>"
      ],
      "text/plain": [
       "Empty DataFrame\n",
       "Columns: [id, country_id, league_id, season, stage, date, match_api_id, home_team_api_id, away_team_api_id, home_team_goal, away_team_goal, home_player_1, home_player_2, home_player_3, home_player_4, home_player_5, home_player_6, home_player_7, home_player_8, home_player_9, home_player_10, home_player_11, away_player_1, away_player_2, away_player_3, away_player_4, away_player_5, away_player_6, away_player_7, away_player_8, away_player_9, away_player_10, away_player_11, B365H, B365D, B365A, BWH, BWD, BWA, IWH, IWD, IWA, LBH, LBD, LBA, PSH, PSD, PSA, WHH, WHD, WHA, SJH, SJD, SJA, VCH, VCD, VCA, GBH, GBD, GBA, BSH, BSD, BSA]\n",
       "Index: []"
      ]
     },
     "execution_count": 10,
     "metadata": {},
     "output_type": "execute_result"
    }
   ],
   "source": [
    "#Eliminar partidas em que não são conhecidos pelo menos 8 jogadores que jogaram (para a Equipa da Casa)\n",
    "match = match.dropna(axis=0, thresh=8, subset=match.columns.to_series()[\"home_player_1\":\"home_player_11\"])\n",
    "#Verificação\n",
    "match.loc[match.loc[:,'home_player_1':'home_player_11'].count(axis=1) < 8]"
   ]
  },
  {
   "cell_type": "code",
   "execution_count": 11,
   "metadata": {},
   "outputs": [
    {
     "data": {
      "text/html": [
       "<div>\n",
       "<style scoped>\n",
       "    .dataframe tbody tr th:only-of-type {\n",
       "        vertical-align: middle;\n",
       "    }\n",
       "\n",
       "    .dataframe tbody tr th {\n",
       "        vertical-align: top;\n",
       "    }\n",
       "\n",
       "    .dataframe thead th {\n",
       "        text-align: right;\n",
       "    }\n",
       "</style>\n",
       "<table border=\"1\" class=\"dataframe\">\n",
       "  <thead>\n",
       "    <tr style=\"text-align: right;\">\n",
       "      <th></th>\n",
       "      <th>id</th>\n",
       "      <th>country_id</th>\n",
       "      <th>league_id</th>\n",
       "      <th>season</th>\n",
       "      <th>stage</th>\n",
       "      <th>date</th>\n",
       "      <th>match_api_id</th>\n",
       "      <th>home_team_api_id</th>\n",
       "      <th>away_team_api_id</th>\n",
       "      <th>home_team_goal</th>\n",
       "      <th>away_team_goal</th>\n",
       "      <th>home_player_1</th>\n",
       "      <th>home_player_2</th>\n",
       "      <th>home_player_3</th>\n",
       "      <th>home_player_4</th>\n",
       "      <th>home_player_5</th>\n",
       "      <th>home_player_6</th>\n",
       "      <th>home_player_7</th>\n",
       "      <th>home_player_8</th>\n",
       "      <th>home_player_9</th>\n",
       "      <th>home_player_10</th>\n",
       "      <th>home_player_11</th>\n",
       "      <th>away_player_1</th>\n",
       "      <th>away_player_2</th>\n",
       "      <th>away_player_3</th>\n",
       "      <th>away_player_4</th>\n",
       "      <th>away_player_5</th>\n",
       "      <th>away_player_6</th>\n",
       "      <th>away_player_7</th>\n",
       "      <th>away_player_8</th>\n",
       "      <th>away_player_9</th>\n",
       "      <th>away_player_10</th>\n",
       "      <th>away_player_11</th>\n",
       "      <th>B365H</th>\n",
       "      <th>B365D</th>\n",
       "      <th>B365A</th>\n",
       "      <th>BWH</th>\n",
       "      <th>BWD</th>\n",
       "      <th>BWA</th>\n",
       "      <th>IWH</th>\n",
       "      <th>IWD</th>\n",
       "      <th>IWA</th>\n",
       "      <th>LBH</th>\n",
       "      <th>LBD</th>\n",
       "      <th>LBA</th>\n",
       "      <th>PSH</th>\n",
       "      <th>PSD</th>\n",
       "      <th>PSA</th>\n",
       "      <th>WHH</th>\n",
       "      <th>WHD</th>\n",
       "      <th>WHA</th>\n",
       "      <th>SJH</th>\n",
       "      <th>SJD</th>\n",
       "      <th>SJA</th>\n",
       "      <th>VCH</th>\n",
       "      <th>VCD</th>\n",
       "      <th>VCA</th>\n",
       "      <th>GBH</th>\n",
       "      <th>GBD</th>\n",
       "      <th>GBA</th>\n",
       "      <th>BSH</th>\n",
       "      <th>BSD</th>\n",
       "      <th>BSA</th>\n",
       "    </tr>\n",
       "  </thead>\n",
       "  <tbody>\n",
       "  </tbody>\n",
       "</table>\n",
       "</div>"
      ],
      "text/plain": [
       "Empty DataFrame\n",
       "Columns: [id, country_id, league_id, season, stage, date, match_api_id, home_team_api_id, away_team_api_id, home_team_goal, away_team_goal, home_player_1, home_player_2, home_player_3, home_player_4, home_player_5, home_player_6, home_player_7, home_player_8, home_player_9, home_player_10, home_player_11, away_player_1, away_player_2, away_player_3, away_player_4, away_player_5, away_player_6, away_player_7, away_player_8, away_player_9, away_player_10, away_player_11, B365H, B365D, B365A, BWH, BWD, BWA, IWH, IWD, IWA, LBH, LBD, LBA, PSH, PSD, PSA, WHH, WHD, WHA, SJH, SJD, SJA, VCH, VCD, VCA, GBH, GBD, GBA, BSH, BSD, BSA]\n",
       "Index: []"
      ]
     },
     "execution_count": 11,
     "metadata": {},
     "output_type": "execute_result"
    }
   ],
   "source": [
    "#Eliminar partidas em que não são conhecidos pelo menos 8 jogadores que jogaram (para a Equipa de Fora)\n",
    "match = match.dropna(axis=0, thresh=8, subset=match.columns.to_series()[\"away_player_1\":\"away_player_11\"])\n",
    "#Verificação\n",
    "match.loc[match.loc[:,'away_player_1':'away_player_11'].count(axis=1) < 8]"
   ]
  },
  {
   "cell_type": "markdown",
   "metadata": {},
   "source": [
    "### <font color=black> - Substituição de Valores Nulos </font>\n",
    "\n",
    "Incrementalmente fomos realizando **merges** de tabelas, por forma a juntar toda a informação de todas as tabelas, de uma forma organizada, em apenas um data set. \n",
    "\n",
    "Desta forma, quando analisamos um *match* somos capazes de ver os atributos dos jogadores envolvidos neste jogo, em vez de apenas vermos os seus id’s. Após efetuar estes merges, tratamos de remover ou, como nem todos os valores nulos necessitam de ser removidos, prosseguimos e estimamos alguns destes valores."
   ]
  },
  {
   "cell_type": "code",
   "execution_count": 12,
   "metadata": {
    "scrolled": true
   },
   "outputs": [],
   "source": [
    "#Passar o formato dos atributos 'date' para formato de tempo\n",
    "match['date'] = match['date'].astype('datetime64[ns]') \n",
    "player_attributes['date'] = player_attributes['date'].astype('datetime64[ns]') \n",
    "team_attributes['date'] = team_attributes['date'].astype('datetime64[ns]') "
   ]
  },
  {
   "cell_type": "code",
   "execution_count": 13,
   "metadata": {},
   "outputs": [],
   "source": [
    "#Create copy of the match and player dataframe\n",
    "match_copy = match.copy()\n",
    "player_copy = player.copy()\n",
    "player_height = player_copy[[\"player_api_id\", \"height\",\"weight\"]].copy()"
   ]
  },
  {
   "cell_type": "markdown",
   "metadata": {},
   "source": [
    "Merge para fazer com o que nosso data_set passe a ter informações sobre os jogadores, utilizando os id's destes.\n",
    "Neste caso, estando-se a tratar da altura e do peso de cada jogador, fomos individualmente buscar o atributo do jogador para no fim serem criadas duas novas colunas para cada equipa *Média do peso*, *Média da altura*"
   ]
  },
  {
   "cell_type": "code",
   "execution_count": 14,
   "metadata": {},
   "outputs": [],
   "source": [
    "# Merge das alturas e pesos para casa jogador em específico - Casa\n",
    "for i in range(1,12):\n",
    "    match_copy = match_copy.merge(player_height, how='left', left_on=['home_player_'+'%s'%i], right_on=['player_api_id'], suffixes=('', '_home_'+'%s'%i), validate=\"m:1\") "
   ]
  },
  {
   "cell_type": "code",
   "execution_count": 15,
   "metadata": {},
   "outputs": [],
   "source": [
    "# Eliminar as colunas do player_api_id e o mudar o nome de height para height_home_1\n",
    "match_copy = match_copy[match_copy.columns.drop(list(match_copy.filter(regex='player_api_id')))]\n",
    "match_copy.rename(columns={\"height\": \"height_home_1\"}, inplace=True)\n",
    "match_copy.rename(columns={\"weight\": \"weight_home_1\"}, inplace=True)"
   ]
  },
  {
   "cell_type": "code",
   "execution_count": 16,
   "metadata": {},
   "outputs": [],
   "source": [
    "# Fazer média das altura e pesos\n",
    "match_copy['mean_height_home']= match_copy[list(match_copy.filter(regex='height_home'))].mean(axis=1)\n",
    "match_copy['mean_weight_home']= match_copy[list(match_copy.filter(regex='weight_home'))].mean(axis=1)"
   ]
  },
  {
   "cell_type": "code",
   "execution_count": 17,
   "metadata": {},
   "outputs": [],
   "source": [
    "# Merge das alturas e pesos para casa jogador em específico - Fora\n",
    "for i in range(1,12):\n",
    "    match_copy = match_copy.merge(player_height, how='left', left_on=['away_player_'+'%s'%i], right_on=['player_api_id'], suffixes=('', '_away_'+'%s'%i), validate=\"m:1\") "
   ]
  },
  {
   "cell_type": "code",
   "execution_count": 18,
   "metadata": {},
   "outputs": [],
   "source": [
    "# Eliminar as colunas do player_api_id e o mudar o nome de height para height_away_1\n",
    "match_copy = match_copy[match_copy.columns.drop(list(match_copy.filter(regex='player_api_id')))]\n",
    "match_copy.rename(columns={\"height\": \"height_away_1\"}, inplace=True)\n",
    "match_copy.rename(columns={\"weight\": \"weight_away_1\"}, inplace=True)"
   ]
  },
  {
   "cell_type": "code",
   "execution_count": 19,
   "metadata": {},
   "outputs": [],
   "source": [
    "# Fazer média das altura e pesos\n",
    "match_copy['mean_height_away']= match_copy[list(match_copy.filter(regex='height_away'))].mean(axis=1)\n",
    "match_copy['mean_weight_away']= match_copy[list(match_copy.filter(regex='weight_away'))].mean(axis=1)"
   ]
  },
  {
   "cell_type": "markdown",
   "metadata": {},
   "source": [
    "Uma vez criadas as novas colunas, prosseguimos para a eliminação das colunas que apenas serviram de auxilio para calcular os valores utilizados nestas mesmas colunas novas."
   ]
  },
  {
   "cell_type": "code",
   "execution_count": 20,
   "metadata": {},
   "outputs": [],
   "source": [
    "# Eliminar colunas com alturas e pesos dos jogadores \n",
    "match_copy = match_copy[match_copy.columns.drop(list(match_copy.filter(regex='height_home_')))]\n",
    "match_copy = match_copy[match_copy.columns.drop(list(match_copy.filter(regex='height_away_')))]\n",
    "match_copy = match_copy[match_copy.columns.drop(list(match_copy.filter(regex='weight_home_')))]\n",
    "match_copy = match_copy[match_copy.columns.drop(list(match_copy.filter(regex='weight_away_')))]"
   ]
  },
  {
   "cell_type": "markdown",
   "metadata": {},
   "source": [
    "No que diz respeito às **odds** disponíveis para cada jogo, concluimos que a melhor abordagem possível seria realizar uma média das odds disponíveis para todas as possibilidades. \n",
    "Isto é, realizamos uma média das odds que todos os sites disponibilizaram para a possibilidade da **equipa da casa ganhar, para o empate e para a equipa de fora ganhar**, ficando assim com apenas 3 colunas e permitindo também trocar os valores nulos existentes pela média calculada."
   ]
  },
  {
   "cell_type": "code",
   "execution_count": 21,
   "metadata": {},
   "outputs": [],
   "source": [
    "#Criar Listas com os labbels das odds para Home, Draw, Away\n",
    "home_ods = [a for a in match_copy.columns if a.endswith('H')]\n",
    "draw_ods = [b for b in match_copy.columns if b.endswith('D')]\n",
    "away_ods = [c for c in match_copy.columns if c.endswith('A')]"
   ]
  },
  {
   "cell_type": "code",
   "execution_count": 22,
   "metadata": {},
   "outputs": [],
   "source": [
    "# Fazer média das odds\n",
    "match_copy['mean_ods_home'] = match_copy[home_ods].mean(axis=1)\n",
    "match_copy['mean_ods_draw'] = match_copy[draw_ods].mean(axis=1)\n",
    "match_copy['mean_ods_away'] = match_copy[away_ods].mean(axis=1)"
   ]
  },
  {
   "cell_type": "code",
   "execution_count": 23,
   "metadata": {},
   "outputs": [],
   "source": [
    "#Retirar colunas das ods\n",
    "odds_indices_drop = ['B365H','B365D','B365A','BWH','BWD','BWA','IWH','IWD','IWA','LBH','LBD','LBA','PSH','PSD','PSA','WHH','WHD','WHA','SJH','SJD','SJA','VCH','VCD','VCA','GBH','GBD','GBA','BSH','BSD','BSA']\n",
    "match_copy.drop(columns=odds_indices_drop, inplace=True)"
   ]
  },
  {
   "cell_type": "markdown",
   "metadata": {},
   "source": [
    "Um dos atributos essenciais é também o **Overall** de cada jogador.\n",
    "\n",
    "Para cada jogador alinhado na equipa fomos pesquisar o seu *overall_rating*. É de notar que esta pesquisa foi baseada na data mais recente da sua atualização, visto que varios jogadores teriam varias linhas de atributos, em datas diferentes.\n",
    "\n",
    "Fizemos então merge com o nosso dataset, e demos lugar à criação de colunas auxiliares que continham os valores destes overalls. \n",
    "\n",
    "Depois de calculada a media do *overall_rating* da equipa, criamos então a coluna **mean_or_home** e **mean_or_away** e procedemos para a eliminação das colunas auxiliares utilizadas."
   ]
  },
  {
   "cell_type": "code",
   "execution_count": 24,
   "metadata": {},
   "outputs": [],
   "source": [
    "# Ir buscar os overall_ratings para cada jogador a jogar a partida - Casa\n",
    "player_ratings = player_attributes[[\"player_api_id\", \"date\",\"overall_rating\"]].copy()\n",
    "for i in range(1,12):\n",
    "    match_copy = match_copy.merge(player_ratings, how='outer', left_on=['home_player_'+'%s'%i], right_on=['player_api_id'], suffixes=('', '_home'), validate=\"m:m\")\n",
    "    index_to_drop1 = match_copy[ (match_copy['date_home'] > match_copy['date'])].index\n",
    "    match_copy.drop(index_to_drop1 , inplace=True)\n",
    "    match_copy.drop_duplicates(subset= ['id'], keep='first', inplace=True) \n",
    "    match_copy.rename(columns={\"overall_rating\": \"or_home_player_\"+'%s'%i}, inplace=True)\n",
    "    match_copy.drop(columns=['player_api_id','date_home'] , inplace=True)"
   ]
  },
  {
   "cell_type": "code",
   "execution_count": 25,
   "metadata": {},
   "outputs": [],
   "source": [
    "# Ir buscar os overall_ratings para cada jogador a jogar a partida - Fora\n",
    "for i in range(1,12):\n",
    "    match_copy = match_copy.merge(player_ratings, how='outer', left_on=['away_player_'+'%s'%i], right_on=['player_api_id'], suffixes=('', '_away'), validate=\"m:m\")\n",
    "    index_to_drop1 = match_copy[ (match_copy['date_away'] > match_copy['date'])].index\n",
    "    match_copy.drop(index_to_drop1 , inplace=True)\n",
    "    match_copy.drop_duplicates(subset= ['id'], keep='first', inplace=True) \n",
    "    match_copy.rename(columns={\"overall_rating\": \"or_away_player_\"+'%s'%i}, inplace=True)\n",
    "    match_copy.drop(columns=['player_api_id','date_away'] , inplace=True)"
   ]
  },
  {
   "cell_type": "code",
   "execution_count": 26,
   "metadata": {},
   "outputs": [],
   "source": [
    "# Criar média dos Overall Ratings da equipa da casa e fora, assim como eliminar os valores associados aos jogador dado que\n",
    "# agora só nos interessa a média\n",
    "\n",
    "match_copy['mean_or_home']= match_copy[list(match_copy.filter(regex='or_home_player'))].mean(axis=1)\n",
    "match_copy['mean_or_away']= match_copy[list(match_copy.filter(regex='or_away_player'))].mean(axis=1)\n",
    "match_copy = match_copy[match_copy.columns.drop(list(match_copy.filter(regex='or_away_player_')))]\n",
    "match_copy = match_copy[match_copy.columns.drop(list(match_copy.filter(regex='or_home_player_')))]\n",
    "match_copy = match_copy[match_copy.columns.drop(list(match_copy.filter(regex='home_player')))]\n",
    "match_copy = match_copy[match_copy.columns.drop(list(match_copy.filter(regex='away_player')))]"
   ]
  },
  {
   "cell_type": "code",
   "execution_count": 27,
   "metadata": {},
   "outputs": [],
   "source": [
    "#Eliminar valores adicionados ao match devido ao outter join e que não fazem sentido\n",
    "match_copy = match_copy.dropna(axis=0, subset=['id'])"
   ]
  },
  {
   "cell_type": "markdown",
   "metadata": {},
   "source": [
    "No que diz respeito à analise do resultado, decidimos remover as duas colunas com os golos de cada equipa e criar uma apenas **dif_goals** que representa a diferença de golos:\n",
    "* \\> 0Equipa da casa ganha\n",
    "\n",
    "* = 0 Empate\n",
    "\n",
    "* < 0 Equipa de fora ganha"
   ]
  },
  {
   "cell_type": "code",
   "execution_count": 28,
   "metadata": {},
   "outputs": [],
   "source": [
    "# Cálculo da diferença de golos \n",
    "match_copy[\"dif_goals\"] = match_copy.home_team_goal - match_copy.away_team_goal\n",
    "match_copy = match_copy[match_copy.columns.drop(list(match_copy.filter(regex='home_team_goal')))]\n",
    "match_copy = match_copy[match_copy.columns.drop(list(match_copy.filter(regex='away_team_goal')))]\n"
   ]
  },
  {
   "cell_type": "code",
   "execution_count": 29,
   "metadata": {},
   "outputs": [],
   "source": [
    "match_copy = match_copy[match_copy.columns.drop(list(match_copy.filter(regex='country_id')))]"
   ]
  },
  {
   "cell_type": "code",
   "execution_count": 30,
   "metadata": {},
   "outputs": [],
   "source": [
    "team_attributes_copy = team_attributes.copy()"
   ]
  },
  {
   "cell_type": "code",
   "execution_count": 31,
   "metadata": {},
   "outputs": [],
   "source": [
    "colToDrop = [d for d in team_attributes_copy.columns if d.endswith('Class')]\n",
    "team_attributes_copy.drop(columns=colToDrop, inplace=True)"
   ]
  },
  {
   "cell_type": "markdown",
   "metadata": {},
   "source": [
    "Nesta classe *Team Attributes*, decidimos agrupar os valores disponíveis de *buildUp*, *chance..* e *defence..* em 3 propriedades : *offense_team_rates*, *center_team_rates*, *defense_team_rates*.\n",
    "\n",
    "Esta geração foi feita utilizando a média dos valores anteriormente referidos e, caso dois ou mais forem valores inválidos, esta linha de dados será então removida pois, uma vez mais, consideramos que os dados não são suficientes para definir uma equipa.\n"
   ]
  },
  {
   "cell_type": "code",
   "execution_count": 32,
   "metadata": {},
   "outputs": [],
   "source": [
    "# Verificação de que existem pelo menos dois parametros para avaliar a equipa\n",
    "team_attributes_copy = team_attributes_copy.dropna(axis=0, thresh=2, subset=[\"buildUpPlaySpeed\", \"buildUpPlayDribbling\" ,\"buildUpPlayPassing\"])\n",
    "team_attributes_copy = team_attributes_copy.dropna(axis=0, thresh=2, subset=[\"chanceCreationPassing\",\"chanceCreationCrossing\",\"chanceCreationShooting\"])\n",
    "team_attributes_copy = team_attributes_copy.dropna(axis=0, thresh=2, subset=[\"defencePressure\",\"defenceAggression\",\"defenceTeamWidth\"])"
   ]
  },
  {
   "cell_type": "code",
   "execution_count": 33,
   "metadata": {},
   "outputs": [],
   "source": [
    "#Divide os atributos das equipas em 3 categorias : Atacante, medio e defesa\n",
    "team_attributes_copy[\"offense_team_rates\"] = team_attributes_copy[list(team_attributes_copy.filter(regex='buildUp'))].mean(axis=1)\n",
    "team_attributes_copy[\"center_team_rates\"] = team_attributes_copy[list(team_attributes_copy.filter(regex='chanceCreation'))].mean(axis=1)\n",
    "team_attributes_copy[\"defense_team_rates\"] = team_attributes_copy[list(team_attributes_copy.filter(regex='defence'))].mean(axis=1)"
   ]
  },
  {
   "cell_type": "code",
   "execution_count": 34,
   "metadata": {},
   "outputs": [],
   "source": [
    "#Elimina as colunas que não vão ser utilizadas. Uma vez que as colunas novas já se encontram na tabela\n",
    "team_attributes_copy = team_attributes_copy[team_attributes_copy.columns.drop(list(team_attributes_copy.filter(regex='buildUp')))]\n",
    "team_attributes_copy = team_attributes_copy[team_attributes_copy.columns.drop(list(team_attributes_copy.filter(regex='chanceCreation')))]\n",
    "team_attributes_copy = team_attributes_copy[team_attributes_copy.columns.drop(list(team_attributes_copy.filter(regex='defence')))]\n"
   ]
  },
  {
   "cell_type": "code",
   "execution_count": 35,
   "metadata": {},
   "outputs": [],
   "source": [
    "#Definir as rates a inserir na tabela principal\n",
    "team_ratings = team_attributes_copy[[\"team_api_id\" ,  \"date\", \"offense_team_rates\" , \"center_team_rates\", \"defense_team_rates\"]]"
   ]
  },
  {
   "cell_type": "code",
   "execution_count": 36,
   "metadata": {},
   "outputs": [
    {
     "data": {
      "text/plain": [
       "id                  0\n",
       "league_id           0\n",
       "season              0\n",
       "stage               0\n",
       "date                0\n",
       "match_api_id        0\n",
       "home_team_api_id    0\n",
       "away_team_api_id    0\n",
       "mean_height_home    0\n",
       "mean_weight_home    0\n",
       "mean_height_away    0\n",
       "mean_weight_away    0\n",
       "mean_ods_home       0\n",
       "mean_ods_draw       0\n",
       "mean_ods_away       0\n",
       "mean_or_home        0\n",
       "mean_or_away        0\n",
       "dif_goals           0\n",
       "dtype: int64"
      ]
     },
     "execution_count": 36,
     "metadata": {},
     "output_type": "execute_result"
    }
   ],
   "source": [
    "match_copy.isnull().sum()"
   ]
  },
  {
   "cell_type": "code",
   "execution_count": 37,
   "metadata": {},
   "outputs": [],
   "source": [
    "#Merge para a tabela principal dos ratings da equipa da casa\n",
    "match_copy = match_copy.merge(team_ratings, how='outer', left_on=[\"home_team_api_id\"], right_on=['team_api_id'], suffixes=('', '_home'), validate=\"m:m\")"
   ]
  },
  {
   "cell_type": "code",
   "execution_count": 38,
   "metadata": {},
   "outputs": [],
   "source": [
    "#Tratar o merge da equipa da casa\n",
    "index_to_drop1 = match_copy[ (match_copy['date_home'] > match_copy['date'])].index\n",
    "match_copy.drop(index_to_drop1 , inplace=True)\n",
    "match_copy.drop_duplicates(subset= ['id'], keep='last', inplace=True) \n",
    "match_copy.rename(columns={\"offense_team_rates\": \"offense_team_rates_home\", \"center_team_rates\" : \"center_team_rates_home\", \"defense_team_rates\":\"defense_team_rates_home\"}, inplace=True)\n",
    "match_copy.drop(columns=['date_home', 'team_api_id'] , inplace=True)"
   ]
  },
  {
   "cell_type": "code",
   "execution_count": 39,
   "metadata": {},
   "outputs": [],
   "source": [
    "#Eliminar valores adicionados ao match devido ao outter join e que não fazem sentido\n",
    "match_copy = match_copy.dropna(axis=0, subset=['id'])"
   ]
  },
  {
   "cell_type": "code",
   "execution_count": 40,
   "metadata": {},
   "outputs": [],
   "source": [
    "match_copy = match_copy.merge(team_ratings, how='outer', left_on=[\"away_team_api_id\"], right_on=['team_api_id'], suffixes=('', '_away'), validate=\"m:m\")"
   ]
  },
  {
   "cell_type": "code",
   "execution_count": 41,
   "metadata": {},
   "outputs": [],
   "source": [
    "#Tratar o merge da equipa de fora\n",
    "index_to_drop1 = match_copy[ (match_copy['date_away'] > match_copy['date'])].index\n",
    "match_copy.drop(index_to_drop1 , inplace=True)\n",
    "match_copy.drop_duplicates(subset= ['id'], keep='last', inplace=True) \n",
    "match_copy.rename(columns={\"offense_team_rates\": \"offense_team_rates_away\", \"center_team_rates\" : \"center_team_rates_away\", \"defense_team_rates\":\"defense_team_rates_away\"}, inplace=True)\n",
    "match_copy.drop(columns=['date_away', 'team_api_id'] , inplace=True)"
   ]
  },
  {
   "cell_type": "code",
   "execution_count": 42,
   "metadata": {},
   "outputs": [],
   "source": [
    "#Eliminar valores adicionados ao match devido ao outter join e que não fazem sentido\n",
    "match_copy = match_copy.dropna(axis=0, subset=['id'])"
   ]
  },
  {
   "cell_type": "code",
   "execution_count": 43,
   "metadata": {},
   "outputs": [],
   "source": [
    "#match_copy.isnull().sum()\n",
    "# Se descomentarmos o comando em cima podemos ver que existem dados relativos às equipas. Isto deve-se ao facto de o \n",
    "# id destas não estar presenta na base de dados dos Team Attributes. Sendo assim podemos eliminar os valores nulos\n",
    "match_copy.dropna(inplace=True)"
   ]
  },
  {
   "cell_type": "code",
   "execution_count": 44,
   "metadata": {},
   "outputs": [
    {
     "data": {
      "text/plain": [
       "(16918, 24)"
      ]
     },
     "execution_count": 44,
     "metadata": {},
     "output_type": "execute_result"
    }
   ],
   "source": [
    "match_copy.shape"
   ]
  },
  {
   "cell_type": "code",
   "execution_count": 45,
   "metadata": {},
   "outputs": [],
   "source": [
    "match_copy = match_copy.round(2)"
   ]
  },
  {
   "cell_type": "code",
   "execution_count": 46,
   "metadata": {},
   "outputs": [],
   "source": [
    "match_copy.to_csv('pre_processed_df', index=False)"
   ]
  },
  {
   "cell_type": "code",
   "execution_count": null,
   "metadata": {},
   "outputs": [],
   "source": []
  },
  {
   "cell_type": "markdown",
   "metadata": {},
   "source": [
    "## <font color=black>Modelos de Aprendizagem (Regressão)</font> "
   ]
  },
  {
   "cell_type": "markdown",
   "metadata": {},
   "source": [
    "Após o tratamento e pré-processamento de dados, é possivel aplicar os algoritmos de aprendizagem supervisionada sobre os mesmos com o objetivo final de prever a diferença de golos entre duas equipas a jogar uma partida. <br>\n",
    "Como algoritmos de aprendizagem escolhemos utilizar:\n",
    "    - Àrvores de decisão\n",
    "    - Redes Neuronais\n",
    "    - Máquinas de Suporte Vetorial\n"
   ]
  },
  {
   "cell_type": "markdown",
   "metadata": {},
   "source": [
    "Inicialmente é necessário importar um conjunto de bibliotecas que permitem e facilitam o uso destes modelos e fazer a leitura do ficheiro construído no pré-processamento."
   ]
  },
  {
   "cell_type": "code",
   "execution_count": 47,
   "metadata": {},
   "outputs": [],
   "source": [
    "import matplotlib.pyplot as plt\n",
    "import seaborn as sns\n",
    "\n",
    "from time import time\n",
    "from sklearn.model_selection import train_test_split\n",
    "from sklearn.preprocessing import LabelEncoder, StandardScaler, QuantileTransformer\n",
    "from sklearn.pipeline import make_pipeline\n",
    "from sklearn.ensemble import RandomForestRegressor\n",
    "from sklearn.neural_network import MLPRegressor\n",
    "from sklearn.svm import SVR\n",
    "from sklearn.metrics import explained_variance_score, max_error, mean_squared_error, r2_score, mean_absolute_error"
   ]
  },
  {
   "cell_type": "code",
   "execution_count": 48,
   "metadata": {},
   "outputs": [],
   "source": [
    "# ler ficheiro pré-processado \n",
    "df = pd.read_csv('pre_processed_df')"
   ]
  },
  {
   "cell_type": "markdown",
   "metadata": {},
   "source": [
    "Após a leitura do ficheiro é necessário dividir os atributos de entrada e saída. Neste caso possuímos um atributo de saída (diferença de golos, valor a prever), portanto, atribuimos esse mesmo a 'y' e os restantes a 'X'."
   ]
  },
  {
   "cell_type": "code",
   "execution_count": 49,
   "metadata": {},
   "outputs": [],
   "source": [
    "#Divisão entre entradas e saída\n",
    "\n",
    "X = df.drop(['id', 'league_id', 'season', 'stage', 'date','dif_goals'],axis=1)\n",
    "\n",
    "y = df['dif_goals']"
   ]
  },
  {
   "cell_type": "markdown",
   "metadata": {},
   "source": [
    "Tendo os dados divididos em entradas e saídas, o próximo passo trata a divisão dos dados num conjunto para treino e num conjunto para teste. Esta divisão é facilitada pela função de 'train_test_split()' disponibilizada pela biblioteca 'scikit-learn'.<br>\n",
    "<br>O conjunto de treino é responsável pela construção do modelo de aprendizagem. É através deste que o modelo que, iterativamente, são ajustados os seus parâmetros de forma a otimizar o resultado produzido.<br>\n",
    "O conjunto de teste tem a função de, como o nome indica, avaliar o desempenho do modelo produzido pelo conjunto de treino e verificar se os resultados produzidos coincidem com o resultado verdadeiro. <br>\n",
    "<br>Dada a importância do treino, optamos por utilizar 85% para o mesmo e os restantes 15% para teste.<br>\n",
    "\n",
    "<br>É importante ter em conta que os dados apresentam grandezas e escalas diferentes sendo importante a sua normalização de forma a garantir integridade dos mesmos.\n"
   ]
  },
  {
   "cell_type": "code",
   "execution_count": 50,
   "metadata": {},
   "outputs": [],
   "source": [
    "# Dividir dados em sets de Treino e Teste \n",
    "X_train, X_test, y_train, y_test = train_test_split(X, y, test_size= 0.15)\n",
    "\n",
    "# Normalização de Dados\n",
    "sc = StandardScaler()\n",
    "X_train = sc.fit_transform(X_train)\n",
    "X_test = sc.transform(X_test)\n"
   ]
  },
  {
   "cell_type": "markdown",
   "metadata": {},
   "source": [
    "### <font color=black> - Árvore de Decisão </font> "
   ]
  },
  {
   "cell_type": "code",
   "execution_count": 51,
   "metadata": {},
   "outputs": [
    {
     "name": "stdout",
     "output_type": "stream",
     "text": [
      "Done in 45.370s\n"
     ]
    }
   ],
   "source": [
    "# Treinar o modelo - Árvores de Decisão\n",
    "tick = time()\n",
    "\n",
    "rfr = RandomForestRegressor(n_estimators=350)\n",
    "rfr.fit(X_train, y_train)\n",
    "prediction_rfr = rfr.predict(X_test)\n",
    "\n",
    "print(\"Done in {:.3f}s\".format(time() - tick))"
   ]
  },
  {
   "cell_type": "code",
   "execution_count": 52,
   "metadata": {},
   "outputs": [
    {
     "name": "stdout",
     "output_type": "stream",
     "text": [
      "Explained Variance Score: 0.1671719267304821\n",
      "Max Error: 8.291428571428572\n",
      "R2 Score: 0.16608451113361922\n",
      "Mean Square Error: 2.7955762274649816\n",
      "Mean Absolute Error: 1.289396600247664\n"
     ]
    }
   ],
   "source": [
    "# Imprimir métricas para avaliação do desempenho do modelo\n",
    "\n",
    "print(\"Explained Variance Score:\",explained_variance_score(y_test, prediction_rfr))\n",
    "print(\"Max Error:\",max_error(y_test, prediction_rfr))\n",
    "print(\"R2 Score:\",r2_score(y_test, prediction_rfr))\n",
    "print(\"Mean Square Error:\",mean_squared_error(y_test, prediction_rfr))\n",
    "print(\"Mean Absolute Error:\",mean_absolute_error(y_test, prediction_rfr))"
   ]
  },
  {
   "cell_type": "markdown",
   "metadata": {},
   "source": [
    "### <font color=black> - Rede Neuronal </font> "
   ]
  },
  {
   "cell_type": "code",
   "execution_count": 53,
   "metadata": {},
   "outputs": [
    {
     "name": "stdout",
     "output_type": "stream",
     "text": [
      "Done in 1.737s\n"
     ]
    }
   ],
   "source": [
    "# Treinar o modelo - Rede Neuronal\n",
    "tick = time()\n",
    "\n",
    "mlp = make_pipeline(QuantileTransformer(), MLPRegressor(hidden_layer_sizes=(50,50),learning_rate_init=0.01,early_stopping=True))\n",
    "mlp.fit(X_train, y_train)\n",
    "prediction_mlp = mlp.predict(X_test)\n",
    "\n",
    "print(\"Done in {:.3f}s\".format(time() - tick))"
   ]
  },
  {
   "cell_type": "code",
   "execution_count": 54,
   "metadata": {},
   "outputs": [
    {
     "name": "stdout",
     "output_type": "stream",
     "text": [
      "Explained Variance Score: 0.2032118588723677\n",
      "Max Error: 8.214954979790777\n",
      "R2 Score: 0.20024631362268253\n",
      "Mean Square Error: 2.681053923705395\n",
      "Mean Absolute Error: 1.2697743553979477\n"
     ]
    }
   ],
   "source": [
    "# Imprimir métricas para avaliação do desempenho do modelo\n",
    "\n",
    "print(\"Explained Variance Score:\",explained_variance_score(y_test, prediction_mlp))\n",
    "print(\"Max Error:\",max_error(y_test, prediction_mlp))\n",
    "print(\"R2 Score:\",r2_score(y_test, prediction_mlp))\n",
    "print(\"Mean Square Error:\",mean_squared_error(y_test, prediction_mlp))\n",
    "print(\"Mean Absolute Error:\",mean_absolute_error(y_test, prediction_mlp))"
   ]
  },
  {
   "cell_type": "code",
   "execution_count": 55,
   "metadata": {},
   "outputs": [
    {
     "data": {
      "image/png": "[encoded data removed]",
      "text/plain": [
       "<Figure size 432x288 with 1 Axes>"
      ]
     },
     "metadata": {
      "needs_background": "light"
     },
     "output_type": "display_data"
    }
   ],
   "source": [
    "plt.scatter(y_test, prediction_mlp,color='g')\n",
    "plt.plot(y_test, prediction_mlp,color='b')\n",
    "plt.show()"
   ]
  },
  {
   "cell_type": "markdown",
   "metadata": {},
   "source": [
    "### <font color=black> - Máquina de Suporte Vetorial </font> "
   ]
  },
  {
   "cell_type": "code",
   "execution_count": 56,
   "metadata": {},
   "outputs": [
    {
     "name": "stdout",
     "output_type": "stream",
     "text": [
      "Done in 8.305s\n"
     ]
    }
   ],
   "source": [
    "# Treinar o modelo - SVR\n",
    "tick = time()\n",
    "\n",
    "svr= SVR()\n",
    "svr.fit(X_train, y_train)\n",
    "prediction_svr = svr.predict(X_test)\n",
    "\n",
    "print(\"Done in {:.3f}s\".format(time() - tick))"
   ]
  },
  {
   "cell_type": "code",
   "execution_count": 57,
   "metadata": {},
   "outputs": [
    {
     "name": "stdout",
     "output_type": "stream",
     "text": [
      "Explained Variance Score: 0.18871548333752175\n",
      "Max Error: 8.873126267806157\n",
      "R2 Score: 0.18867885744987367\n",
      "Mean Square Error: 2.719832080389962\n",
      "Mean Absolute Error: 1.272871282125474\n"
     ]
    }
   ],
   "source": [
    "print(\"Explained Variance Score:\",explained_variance_score(y_test, prediction_svr))\n",
    "print(\"Max Error:\",max_error(y_test, prediction_svr))\n",
    "print(\"R2 Score:\",r2_score(y_test, prediction_svr))\n",
    "print(\"Mean Square Error:\",mean_squared_error(y_test, prediction_svr))\n",
    "print(\"Mean Absolute Error:\",mean_absolute_error(y_test, prediction_svr))"
   ]
  },
  {
   "cell_type": "markdown",
   "metadata": {},
   "source": [
    "## <font color=black>Conclusão</font> "
   ]
  },
  {
   "cell_type": "code",
   "execution_count": null,
   "metadata": {},
   "outputs": [],
   "source": []
  }
 ],
 "metadata": {
  "kernelspec": {
   "display_name": "Python 3",
   "language": "python",
   "name": "python3"
  },
  "language_info": {
   "codemirror_mode": {
    "name": "ipython",
    "version": 3
   },
   "file_extension": ".py",
   "mimetype": "text/x-python",
   "name": "python",
   "nbconvert_exporter": "python",
   "pygments_lexer": "ipython3",
   "version": "3.7.6"
  }
 },
 "nbformat": 4,
 "nbformat_minor": 4
}
