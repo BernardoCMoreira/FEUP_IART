{
 "cells": [
  {
   "cell_type": "code",
   "execution_count": 1,
   "metadata": {},
   "outputs": [],
   "source": [
    "import pandas as pd\n",
    "import numpy as np"
   ]
  },
  {
   "cell_type": "markdown",
   "metadata": {},
   "source": [
    "## <font color=black>Leitura de Dados</font> "
   ]
  },
  {
   "cell_type": "code",
   "execution_count": 2,
   "metadata": {},
   "outputs": [],
   "source": [
    "# Read all files \n",
    "country = pd.read_csv('Country_Original.csv')\n",
    "league = pd.read_csv('League_Original.csv')\n",
    "match = pd.read_csv('Match_Original.csv')\n",
    "player = pd.read_csv('Player_Original.csv')\n",
    "player_attributes = pd.read_csv('Player_Attributes_Original.csv')\n",
    "team = pd.read_csv('Team_Original.csv')\n",
    "team_attributes = pd.read_csv('Team_Attributes_Original.csv')\n",
    "\n",
    "pd.set_option('display.max_rows', None)\n",
    "pd.set_option('display.max_columns', None)"
   ]
  },
  {
   "cell_type": "markdown",
   "metadata": {},
   "source": [
    "## <font color=black>Organização e Limpeza de Dados</font> \n",
    "\n",
    "Pretendemos nesta secção do trabalho reduzir e tratar os dados de forma a que não exista informação irrelevante para o modelo que pretendemos construir.\n",
    "\n",
    "### <font color=black> - Eliminação de Valores Nulos</font>"
   ]
  },
  {
   "cell_type": "code",
   "execution_count": 3,
   "metadata": {},
   "outputs": [],
   "source": [
    "# Eliminar atributos relativos à posição dos jogadores\n",
    "player_attributes.drop(player_attributes.columns.to_series()[\"potential\":], axis=1, inplace = True)\n"
   ]
  },
  {
   "cell_type": "code",
   "execution_count": 4,
   "metadata": {},
   "outputs": [],
   "source": [
    "# Eliminar duplicados caso existam\n",
    "player_attributes.drop_duplicates(keep = False, inplace = True)"
   ]
  },
  {
   "cell_type": "code",
   "execution_count": 5,
   "metadata": {},
   "outputs": [
    {
     "data": {
      "text/plain": [
       "0"
      ]
     },
     "execution_count": 5,
     "metadata": {},
     "output_type": "execute_result"
    }
   ],
   "source": [
    "# Verficar se existe overall_ratings null\n",
    "player_attributes.dropna(axis=0, how=\"any\", subset =['overall_rating'], inplace=True)\n",
    "player_attributes['overall_rating'].isnull().sum()"
   ]
  },
  {
   "cell_type": "code",
   "execution_count": 6,
   "metadata": {
    "scrolled": true
   },
   "outputs": [],
   "source": [
    "# Eliminar atributos relativos à posição dos jogadores\n",
    "match.drop(match.columns.to_series()[\"home_player_X1\":\"away_player_Y11\"], axis=1, inplace = True)\n",
    "# Eliminar os seguintes atributos -> shoton, shotoff, foulcommit, card, cross, corner, possession\n",
    "match.drop(match.columns.to_series()[\"goal\":\"possession\"], axis=1,inplace = True)"
   ]
  },
  {
   "cell_type": "code",
   "execution_count": 7,
   "metadata": {},
   "outputs": [],
   "source": [
    "#Organizar dados por datas, do passado para o presente\n",
    "match['date'] = match['date'].astype('datetime64[ns]')\n",
    "match = match.sort_values(by=['date'], ascending=True)"
   ]
  },
  {
   "cell_type": "code",
   "execution_count": 8,
   "metadata": {},
   "outputs": [],
   "source": [
    "#Eliminar todos as linhas que não tenham nenhuma info sobre os jogadores\n",
    "match = match.dropna(axis=0, how=\"all\", subset=match.columns.to_series()[\"home_player_1\":\"away_player_11\"])"
   ]
  },
  {
   "cell_type": "code",
   "execution_count": 9,
   "metadata": {},
   "outputs": [],
   "source": [
    "#Eliminar todas as linhas que não tenham nenhuma odd relativa ao jogo\n",
    "match.dropna(axis=0, how=\"all\", subset=match.columns.to_series()[\"B365H\":], inplace=True)"
   ]
  },
  {
   "cell_type": "code",
   "execution_count": 10,
   "metadata": {},
   "outputs": [
    {
     "data": {
      "text/html": [
       "<div>\n",
       "<style scoped>\n",
       "    .dataframe tbody tr th:only-of-type {\n",
       "        vertical-align: middle;\n",
       "    }\n",
       "\n",
       "    .dataframe tbody tr th {\n",
       "        vertical-align: top;\n",
       "    }\n",
       "\n",
       "    .dataframe thead th {\n",
       "        text-align: right;\n",
       "    }\n",
       "</style>\n",
       "<table border=\"1\" class=\"dataframe\">\n",
       "  <thead>\n",
       "    <tr style=\"text-align: right;\">\n",
       "      <th></th>\n",
       "      <th>id</th>\n",
       "      <th>country_id</th>\n",
       "      <th>league_id</th>\n",
       "      <th>season</th>\n",
       "      <th>stage</th>\n",
       "      <th>date</th>\n",
       "      <th>match_api_id</th>\n",
       "      <th>home_team_api_id</th>\n",
       "      <th>away_team_api_id</th>\n",
       "      <th>home_team_goal</th>\n",
       "      <th>away_team_goal</th>\n",
       "      <th>home_player_1</th>\n",
       "      <th>home_player_2</th>\n",
       "      <th>home_player_3</th>\n",
       "      <th>home_player_4</th>\n",
       "      <th>home_player_5</th>\n",
       "      <th>home_player_6</th>\n",
       "      <th>home_player_7</th>\n",
       "      <th>home_player_8</th>\n",
       "      <th>home_player_9</th>\n",
       "      <th>home_player_10</th>\n",
       "      <th>home_player_11</th>\n",
       "      <th>away_player_1</th>\n",
       "      <th>away_player_2</th>\n",
       "      <th>away_player_3</th>\n",
       "      <th>away_player_4</th>\n",
       "      <th>away_player_5</th>\n",
       "      <th>away_player_6</th>\n",
       "      <th>away_player_7</th>\n",
       "      <th>away_player_8</th>\n",
       "      <th>away_player_9</th>\n",
       "      <th>away_player_10</th>\n",
       "      <th>away_player_11</th>\n",
       "      <th>B365H</th>\n",
       "      <th>B365D</th>\n",
       "      <th>B365A</th>\n",
       "      <th>BWH</th>\n",
       "      <th>BWD</th>\n",
       "      <th>BWA</th>\n",
       "      <th>IWH</th>\n",
       "      <th>IWD</th>\n",
       "      <th>IWA</th>\n",
       "      <th>LBH</th>\n",
       "      <th>LBD</th>\n",
       "      <th>LBA</th>\n",
       "      <th>PSH</th>\n",
       "      <th>PSD</th>\n",
       "      <th>PSA</th>\n",
       "      <th>WHH</th>\n",
       "      <th>WHD</th>\n",
       "      <th>WHA</th>\n",
       "      <th>SJH</th>\n",
       "      <th>SJD</th>\n",
       "      <th>SJA</th>\n",
       "      <th>VCH</th>\n",
       "      <th>VCD</th>\n",
       "      <th>VCA</th>\n",
       "      <th>GBH</th>\n",
       "      <th>GBD</th>\n",
       "      <th>GBA</th>\n",
       "      <th>BSH</th>\n",
       "      <th>BSD</th>\n",
       "      <th>BSA</th>\n",
       "    </tr>\n",
       "  </thead>\n",
       "  <tbody>\n",
       "  </tbody>\n",
       "</table>\n",
       "</div>"
      ],
      "text/plain": [
       "Empty DataFrame\n",
       "Columns: [id, country_id, league_id, season, stage, date, match_api_id, home_team_api_id, away_team_api_id, home_team_goal, away_team_goal, home_player_1, home_player_2, home_player_3, home_player_4, home_player_5, home_player_6, home_player_7, home_player_8, home_player_9, home_player_10, home_player_11, away_player_1, away_player_2, away_player_3, away_player_4, away_player_5, away_player_6, away_player_7, away_player_8, away_player_9, away_player_10, away_player_11, B365H, B365D, B365A, BWH, BWD, BWA, IWH, IWD, IWA, LBH, LBD, LBA, PSH, PSD, PSA, WHH, WHD, WHA, SJH, SJD, SJA, VCH, VCD, VCA, GBH, GBD, GBA, BSH, BSD, BSA]\n",
       "Index: []"
      ]
     },
     "execution_count": 10,
     "metadata": {},
     "output_type": "execute_result"
    }
   ],
   "source": [
    "#Eliminar partidas em que não são conhecidos pelo menos 8 jogadores que jogaram (para a Equipa da Casa)\n",
    "match = match.dropna(axis=0, thresh=8, subset=match.columns.to_series()[\"home_player_1\":\"home_player_11\"])\n",
    "#Verificação\n",
    "match.loc[match.loc[:,'home_player_1':'home_player_11'].count(axis=1) < 8]"
   ]
  },
  {
   "cell_type": "code",
   "execution_count": 11,
   "metadata": {},
   "outputs": [
    {
     "data": {
      "text/html": [
       "<div>\n",
       "<style scoped>\n",
       "    .dataframe tbody tr th:only-of-type {\n",
       "        vertical-align: middle;\n",
       "    }\n",
       "\n",
       "    .dataframe tbody tr th {\n",
       "        vertical-align: top;\n",
       "    }\n",
       "\n",
       "    .dataframe thead th {\n",
       "        text-align: right;\n",
       "    }\n",
       "</style>\n",
       "<table border=\"1\" class=\"dataframe\">\n",
       "  <thead>\n",
       "    <tr style=\"text-align: right;\">\n",
       "      <th></th>\n",
       "      <th>id</th>\n",
       "      <th>country_id</th>\n",
       "      <th>league_id</th>\n",
       "      <th>season</th>\n",
       "      <th>stage</th>\n",
       "      <th>date</th>\n",
       "      <th>match_api_id</th>\n",
       "      <th>home_team_api_id</th>\n",
       "      <th>away_team_api_id</th>\n",
       "      <th>home_team_goal</th>\n",
       "      <th>away_team_goal</th>\n",
       "      <th>home_player_1</th>\n",
       "      <th>home_player_2</th>\n",
       "      <th>home_player_3</th>\n",
       "      <th>home_player_4</th>\n",
       "      <th>home_player_5</th>\n",
       "      <th>home_player_6</th>\n",
       "      <th>home_player_7</th>\n",
       "      <th>home_player_8</th>\n",
       "      <th>home_player_9</th>\n",
       "      <th>home_player_10</th>\n",
       "      <th>home_player_11</th>\n",
       "      <th>away_player_1</th>\n",
       "      <th>away_player_2</th>\n",
       "      <th>away_player_3</th>\n",
       "      <th>away_player_4</th>\n",
       "      <th>away_player_5</th>\n",
       "      <th>away_player_6</th>\n",
       "      <th>away_player_7</th>\n",
       "      <th>away_player_8</th>\n",
       "      <th>away_player_9</th>\n",
       "      <th>away_player_10</th>\n",
       "      <th>away_player_11</th>\n",
       "      <th>B365H</th>\n",
       "      <th>B365D</th>\n",
       "      <th>B365A</th>\n",
       "      <th>BWH</th>\n",
       "      <th>BWD</th>\n",
       "      <th>BWA</th>\n",
       "      <th>IWH</th>\n",
       "      <th>IWD</th>\n",
       "      <th>IWA</th>\n",
       "      <th>LBH</th>\n",
       "      <th>LBD</th>\n",
       "      <th>LBA</th>\n",
       "      <th>PSH</th>\n",
       "      <th>PSD</th>\n",
       "      <th>PSA</th>\n",
       "      <th>WHH</th>\n",
       "      <th>WHD</th>\n",
       "      <th>WHA</th>\n",
       "      <th>SJH</th>\n",
       "      <th>SJD</th>\n",
       "      <th>SJA</th>\n",
       "      <th>VCH</th>\n",
       "      <th>VCD</th>\n",
       "      <th>VCA</th>\n",
       "      <th>GBH</th>\n",
       "      <th>GBD</th>\n",
       "      <th>GBA</th>\n",
       "      <th>BSH</th>\n",
       "      <th>BSD</th>\n",
       "      <th>BSA</th>\n",
       "    </tr>\n",
       "  </thead>\n",
       "  <tbody>\n",
       "  </tbody>\n",
       "</table>\n",
       "</div>"
      ],
      "text/plain": [
       "Empty DataFrame\n",
       "Columns: [id, country_id, league_id, season, stage, date, match_api_id, home_team_api_id, away_team_api_id, home_team_goal, away_team_goal, home_player_1, home_player_2, home_player_3, home_player_4, home_player_5, home_player_6, home_player_7, home_player_8, home_player_9, home_player_10, home_player_11, away_player_1, away_player_2, away_player_3, away_player_4, away_player_5, away_player_6, away_player_7, away_player_8, away_player_9, away_player_10, away_player_11, B365H, B365D, B365A, BWH, BWD, BWA, IWH, IWD, IWA, LBH, LBD, LBA, PSH, PSD, PSA, WHH, WHD, WHA, SJH, SJD, SJA, VCH, VCD, VCA, GBH, GBD, GBA, BSH, BSD, BSA]\n",
       "Index: []"
      ]
     },
     "execution_count": 11,
     "metadata": {},
     "output_type": "execute_result"
    }
   ],
   "source": [
    "#Eliminar partidas em que não são conhecidos pelo menos 8 jogadores que jogaram (para a Equipa de Fora)\n",
    "match = match.dropna(axis=0, thresh=8, subset=match.columns.to_series()[\"away_player_1\":\"away_player_11\"])\n",
    "#Verificação\n",
    "match.loc[match.loc[:,'away_player_1':'away_player_11'].count(axis=1) < 8]"
   ]
  },
  {
   "cell_type": "markdown",
   "metadata": {},
   "source": [
    "### <font color=black> - Substituição de Valores Nulos </font>"
   ]
  },
  {
   "cell_type": "code",
   "execution_count": 12,
   "metadata": {
    "scrolled": true
   },
   "outputs": [],
   "source": [
    "#Passar o formato dos atributos 'date' para formato de tempo\n",
    "match['date'] = match['date'].astype('datetime64[ns]') \n",
    "player_attributes['date'] = player_attributes['date'].astype('datetime64[ns]') \n",
    "team_attributes['date'] = team_attributes['date'].astype('datetime64[ns]') "
   ]
  },
  {
   "cell_type": "code",
   "execution_count": 13,
   "metadata": {},
   "outputs": [],
   "source": [
    "#Create copy of the match and player dataframe\n",
    "match_copy = match.copy()\n",
    "player_copy = player.copy()\n",
    "player_height = player_copy[[\"player_api_id\", \"height\",\"weight\"]].copy()"
   ]
  },
  {
   "cell_type": "code",
   "execution_count": 14,
   "metadata": {},
   "outputs": [],
   "source": [
    "# Merge das alturas e pesos para casa jogador em específico - Casa\n",
    "for i in range(1,12):\n",
    "    match_copy = match_copy.merge(player_height, how='left', left_on=['home_player_'+'%s'%i], right_on=['player_api_id'], suffixes=('', '_home_'+'%s'%i), validate=\"m:1\") "
   ]
  },
  {
   "cell_type": "code",
   "execution_count": 15,
   "metadata": {},
   "outputs": [],
   "source": [
    "# Eliminar as colunas do player_api_id e o mudar o nome de height para height_home_1\n",
    "match_copy = match_copy[match_copy.columns.drop(list(match_copy.filter(regex='player_api_id')))]\n",
    "match_copy.rename(columns={\"height\": \"height_home_1\"}, inplace=True)\n",
    "match_copy.rename(columns={\"weight\": \"weight_home_1\"}, inplace=True)"
   ]
  },
  {
   "cell_type": "code",
   "execution_count": 16,
   "metadata": {},
   "outputs": [],
   "source": [
    "# Fazer média das altura e pesos\n",
    "match_copy['mean_height_home']= match_copy[list(match_copy.filter(regex='height_home'))].mean(axis=1)\n",
    "match_copy['mean_weight_home']= match_copy[list(match_copy.filter(regex='weight_home'))].mean(axis=1)"
   ]
  },
  {
   "cell_type": "code",
   "execution_count": 17,
   "metadata": {},
   "outputs": [],
   "source": [
    "# Merge das alturas e pesos para casa jogador em específico - Fora\n",
    "for i in range(1,12):\n",
    "    match_copy = match_copy.merge(player_height, how='left', left_on=['away_player_'+'%s'%i], right_on=['player_api_id'], suffixes=('', '_away_'+'%s'%i), validate=\"m:1\") "
   ]
  },
  {
   "cell_type": "code",
   "execution_count": 18,
   "metadata": {},
   "outputs": [],
   "source": [
    "# Eliminar as colunas do player_api_id e o mudar o nome de height para height_away_1\n",
    "match_copy = match_copy[match_copy.columns.drop(list(match_copy.filter(regex='player_api_id')))]\n",
    "match_copy.rename(columns={\"height\": \"height_away_1\"}, inplace=True)\n",
    "match_copy.rename(columns={\"weight\": \"weight_away_1\"}, inplace=True)"
   ]
  },
  {
   "cell_type": "code",
   "execution_count": 19,
   "metadata": {},
   "outputs": [],
   "source": [
    "# Fazer média das altura e pesos\n",
    "match_copy['mean_height_away']= match_copy[list(match_copy.filter(regex='height_away'))].mean(axis=1)\n",
    "match_copy['mean_weight_away']= match_copy[list(match_copy.filter(regex='weight_away'))].mean(axis=1)"
   ]
  },
  {
   "cell_type": "code",
   "execution_count": 20,
   "metadata": {},
   "outputs": [],
   "source": [
    "# Eliminar colunas com alturas e pesos dos jogadores \n",
    "match_copy = match_copy[match_copy.columns.drop(list(match_copy.filter(regex='height_home_')))]\n",
    "match_copy = match_copy[match_copy.columns.drop(list(match_copy.filter(regex='height_away_')))]\n",
    "match_copy = match_copy[match_copy.columns.drop(list(match_copy.filter(regex='weight_home_')))]\n",
    "match_copy = match_copy[match_copy.columns.drop(list(match_copy.filter(regex='weight_away_')))]"
   ]
  },
  {
   "cell_type": "code",
   "execution_count": 21,
   "metadata": {},
   "outputs": [],
   "source": [
    "#Criar Listas com os labbels das odds para Home, Draw, Away\n",
    "home_ods = [a for a in match_copy.columns if a.endswith('H')]\n",
    "draw_ods = [b for b in match_copy.columns if b.endswith('D')]\n",
    "away_ods = [c for c in match_copy.columns if c.endswith('A')]"
   ]
  },
  {
   "cell_type": "code",
   "execution_count": 22,
   "metadata": {},
   "outputs": [],
   "source": [
    "# Fazer média das odds\n",
    "match_copy['mean_ods_home'] = match_copy[home_ods].mean(axis=1)\n",
    "match_copy['mean_ods_draw'] = match_copy[draw_ods].mean(axis=1)\n",
    "match_copy['mean_ods_away'] = match_copy[away_ods].mean(axis=1)"
   ]
  },
  {
   "cell_type": "code",
   "execution_count": 23,
   "metadata": {},
   "outputs": [],
   "source": [
    "#Retirar colunas das ods\n",
    "odds_indices_drop = ['B365H','B365D','B365A','BWH','BWD','BWA','IWH','IWD','IWA','LBH','LBD','LBA','PSH','PSD','PSA','WHH','WHD','WHA','SJH','SJD','SJA','VCH','VCD','VCA','GBH','GBD','GBA','BSH','BSD','BSA']\n",
    "match_copy.drop(columns=odds_indices_drop, inplace=True)"
   ]
  },
  {
   "cell_type": "code",
   "execution_count": 24,
   "metadata": {},
   "outputs": [],
   "source": [
    "# Ir buscar os overall_ratings para cada jogador a jogar a partida - Casa\n",
    "player_ratings = player_attributes[[\"player_api_id\", \"date\",\"overall_rating\"]].copy()\n",
    "for i in range(1,12):\n",
    "    match_copy = match_copy.merge(player_ratings, how='outer', left_on=['home_player_'+'%s'%i], right_on=['player_api_id'], suffixes=('', '_home'), validate=\"m:m\")\n",
    "    index_to_drop1 = match_copy[ (match_copy['date_home'] > match_copy['date'])].index\n",
    "    match_copy.drop(index_to_drop1 , inplace=True)\n",
    "    match_copy.drop_duplicates(subset= ['id'], keep='first', inplace=True) \n",
    "    match_copy.rename(columns={\"overall_rating\": \"or_home_player_\"+'%s'%i}, inplace=True)\n",
    "    match_copy.drop(columns=['player_api_id','date_home'] , inplace=True)"
   ]
  },
  {
   "cell_type": "code",
   "execution_count": 25,
   "metadata": {},
   "outputs": [],
   "source": [
    "# Ir buscar os overall_ratings para cada jogador a jogar a partida - Fora\n",
    "for i in range(1,12):\n",
    "    match_copy = match_copy.merge(player_ratings, how='outer', left_on=['away_player_'+'%s'%i], right_on=['player_api_id'], suffixes=('', '_away'), validate=\"m:m\")\n",
    "    index_to_drop1 = match_copy[ (match_copy['date_away'] > match_copy['date'])].index\n",
    "    match_copy.drop(index_to_drop1 , inplace=True)\n",
    "    match_copy.drop_duplicates(subset= ['id'], keep='first', inplace=True) \n",
    "    match_copy.rename(columns={\"overall_rating\": \"or_away_player_\"+'%s'%i}, inplace=True)\n",
    "    match_copy.drop(columns=['player_api_id','date_away'] , inplace=True)"
   ]
  },
  {
   "cell_type": "code",
   "execution_count": 26,
   "metadata": {},
   "outputs": [],
   "source": [
    "# Criar média dos Overall Ratings da equipa da casa e fora, assim como eliminar os valores associados aos jogador dado que\n",
    "# agora só nos interessa a média\n",
    "\n",
    "match_copy['mean_or_home']= match_copy[list(match_copy.filter(regex='or_home_player'))].mean(axis=1)\n",
    "match_copy['mean_or_away']= match_copy[list(match_copy.filter(regex='or_away_player'))].mean(axis=1)\n",
    "match_copy = match_copy[match_copy.columns.drop(list(match_copy.filter(regex='or_away_player_')))]\n",
    "match_copy = match_copy[match_copy.columns.drop(list(match_copy.filter(regex='or_home_player_')))]\n",
    "match_copy = match_copy[match_copy.columns.drop(list(match_copy.filter(regex='home_player')))]\n",
    "match_copy = match_copy[match_copy.columns.drop(list(match_copy.filter(regex='away_player')))]"
   ]
  },
  {
   "cell_type": "code",
   "execution_count": 27,
   "metadata": {},
   "outputs": [],
   "source": [
    "#Eliminar valores adicionados ao match devido ao outter join e que não fazem sentido\n",
    "match_copy = match_copy.dropna(axis=0, subset=['id'])"
   ]
  },
  {
   "cell_type": "code",
   "execution_count": 28,
   "metadata": {},
   "outputs": [],
   "source": [
    "# Cálculo da diferença de golos \n",
    "match_copy[\"dif_goals\"] = match_copy.home_team_goal - match_copy.away_team_goal\n",
    "match_copy = match_copy[match_copy.columns.drop(list(match_copy.filter(regex='home_team_goal')))]\n",
    "match_copy = match_copy[match_copy.columns.drop(list(match_copy.filter(regex='away_team_goal')))]\n"
   ]
  },
  {
   "cell_type": "code",
   "execution_count": 29,
   "metadata": {},
   "outputs": [],
   "source": [
    "match_copy = match_copy[match_copy.columns.drop(list(match_copy.filter(regex='country_id')))]"
   ]
  },
  {
   "cell_type": "code",
   "execution_count": 30,
   "metadata": {},
   "outputs": [],
   "source": [
    "team_attributes_copy = team_attributes.copy()"
   ]
  },
  {
   "cell_type": "code",
   "execution_count": 31,
   "metadata": {},
   "outputs": [],
   "source": [
    "colToDrop = [d for d in team_attributes_copy.columns if d.endswith('Class')]\n",
    "team_attributes_copy.drop(columns=colToDrop, inplace=True)"
   ]
  },
  {
   "cell_type": "code",
   "execution_count": 32,
   "metadata": {},
   "outputs": [],
   "source": [
    "# Verificação de que existem pelo menos dois parametros para avaliar a equipa\n",
    "team_attributes_copy = team_attributes_copy.dropna(axis=0, thresh=2, subset=[\"buildUpPlaySpeed\", \"buildUpPlayDribbling\" ,\"buildUpPlayPassing\"])\n",
    "team_attributes_copy = team_attributes_copy.dropna(axis=0, thresh=2, subset=[\"chanceCreationPassing\",\"chanceCreationCrossing\",\"chanceCreationShooting\"])\n",
    "team_attributes_copy = team_attributes_copy.dropna(axis=0, thresh=2, subset=[\"defencePressure\",\"defenceAggression\",\"defenceTeamWidth\"])"
   ]
  },
  {
   "cell_type": "code",
   "execution_count": 33,
   "metadata": {},
   "outputs": [],
   "source": [
    "#Divide os atributos das equipas em 3 categorias : Atacante, medio e defesa\n",
    "team_attributes_copy[\"offense_team_rates\"] = team_attributes_copy[list(team_attributes_copy.filter(regex='buildUp'))].mean(axis=1)\n",
    "team_attributes_copy[\"center_team_rates\"] = team_attributes_copy[list(team_attributes_copy.filter(regex='chanceCreation'))].mean(axis=1)\n",
    "team_attributes_copy[\"defense_team_rates\"] = team_attributes_copy[list(team_attributes_copy.filter(regex='defence'))].mean(axis=1)"
   ]
  },
  {
   "cell_type": "code",
   "execution_count": 34,
   "metadata": {},
   "outputs": [],
   "source": [
    "#Elimina as colunas que não vão ser utilizadas. Uma vez que as colunas novas já se encontram na tabela\n",
    "team_attributes_copy = team_attributes_copy[team_attributes_copy.columns.drop(list(team_attributes_copy.filter(regex='buildUp')))]\n",
    "team_attributes_copy = team_attributes_copy[team_attributes_copy.columns.drop(list(team_attributes_copy.filter(regex='chanceCreation')))]\n",
    "team_attributes_copy = team_attributes_copy[team_attributes_copy.columns.drop(list(team_attributes_copy.filter(regex='defence')))]\n"
   ]
  },
  {
   "cell_type": "code",
   "execution_count": 35,
   "metadata": {},
   "outputs": [],
   "source": [
    "#Definir as rates a inserir na tabela principal\n",
    "team_ratings = team_attributes_copy[[\"team_api_id\" ,  \"date\", \"offense_team_rates\" , \"center_team_rates\", \"defense_team_rates\"]]"
   ]
  },
  {
   "cell_type": "code",
   "execution_count": 36,
   "metadata": {},
   "outputs": [
    {
     "data": {
      "text/plain": [
       "id                  0\n",
       "league_id           0\n",
       "season              0\n",
       "stage               0\n",
       "date                0\n",
       "match_api_id        0\n",
       "home_team_api_id    0\n",
       "away_team_api_id    0\n",
       "mean_height_home    0\n",
       "mean_weight_home    0\n",
       "mean_height_away    0\n",
       "mean_weight_away    0\n",
       "mean_ods_home       0\n",
       "mean_ods_draw       0\n",
       "mean_ods_away       0\n",
       "mean_or_home        0\n",
       "mean_or_away        0\n",
       "dif_goals           0\n",
       "dtype: int64"
      ]
     },
     "execution_count": 36,
     "metadata": {},
     "output_type": "execute_result"
    }
   ],
   "source": [
    "match_copy.isnull().sum()"
   ]
  },
  {
   "cell_type": "code",
   "execution_count": 37,
   "metadata": {},
   "outputs": [],
   "source": [
    "#Merge para a tabela principal dos ratings da equipa da casa\n",
    "match_copy = match_copy.merge(team_ratings, how='outer', left_on=[\"home_team_api_id\"], right_on=['team_api_id'], suffixes=('', '_home'), validate=\"m:m\")"
   ]
  },
  {
   "cell_type": "code",
   "execution_count": 38,
   "metadata": {},
   "outputs": [],
   "source": [
    "#Tratar o merge da equipa da casa\n",
    "index_to_drop1 = match_copy[ (match_copy['date_home'] > match_copy['date'])].index\n",
    "match_copy.drop(index_to_drop1 , inplace=True)\n",
    "match_copy.drop_duplicates(subset= ['id'], keep='last', inplace=True) \n",
    "match_copy.rename(columns={\"offense_team_rates\": \"offense_team_rates_home\", \"center_team_rates\" : \"center_team_rates_home\", \"defense_team_rates\":\"defense_team_rates_home\"}, inplace=True)\n",
    "match_copy.drop(columns=['date_home', 'team_api_id'] , inplace=True)"
   ]
  },
  {
   "cell_type": "code",
   "execution_count": 39,
   "metadata": {},
   "outputs": [],
   "source": [
    "#Eliminar valores adicionados ao match devido ao outter join e que não fazem sentido\n",
    "match_copy = match_copy.dropna(axis=0, subset=['id'])"
   ]
  },
  {
   "cell_type": "code",
   "execution_count": 40,
   "metadata": {},
   "outputs": [],
   "source": [
    "match_copy = match_copy.merge(team_ratings, how='outer', left_on=[\"away_team_api_id\"], right_on=['team_api_id'], suffixes=('', '_away'), validate=\"m:m\")"
   ]
  },
  {
   "cell_type": "code",
   "execution_count": 41,
   "metadata": {},
   "outputs": [],
   "source": [
    "#Tratar o merge da equipa de fora\n",
    "index_to_drop1 = match_copy[ (match_copy['date_away'] > match_copy['date'])].index\n",
    "match_copy.drop(index_to_drop1 , inplace=True)\n",
    "match_copy.drop_duplicates(subset= ['id'], keep='last', inplace=True) \n",
    "match_copy.rename(columns={\"offense_team_rates\": \"offense_team_rates_away\", \"center_team_rates\" : \"center_team_rates_away\", \"defense_team_rates\":\"defense_team_rates_away\"}, inplace=True)\n",
    "match_copy.drop(columns=['date_away', 'team_api_id'] , inplace=True)"
   ]
  },
  {
   "cell_type": "code",
   "execution_count": 42,
   "metadata": {},
   "outputs": [],
   "source": [
    "#Eliminar valores adicionados ao match devido ao outter join e que não fazem sentido\n",
    "match_copy = match_copy.dropna(axis=0, subset=['id'])"
   ]
  },
  {
   "cell_type": "code",
   "execution_count": 43,
   "metadata": {},
   "outputs": [],
   "source": [
    "#match_copy.isnull().sum()\n",
    "# Se descomentarmos o comando em cima podemos ver que existem dados relativos às equipas. Isto deve-se ao facto de o \n",
    "# id destas não estar presenta na base de dados dos Team Attributes. Sendo assim podemos eliminar os valores nulos\n",
    "match_copy.dropna(inplace=True)"
   ]
  },
  {
   "cell_type": "code",
   "execution_count": 44,
   "metadata": {},
   "outputs": [
    {
     "data": {
      "text/plain": [
       "(16918, 24)"
      ]
     },
     "execution_count": 44,
     "metadata": {},
     "output_type": "execute_result"
    }
   ],
   "source": [
    "match_copy.shape"
   ]
  },
  {
   "cell_type": "code",
   "execution_count": 45,
   "metadata": {},
   "outputs": [],
   "source": [
    "match_copy = match_copy.round(2)"
   ]
  },
  {
   "cell_type": "code",
   "execution_count": 46,
   "metadata": {},
   "outputs": [],
   "source": [
    "match_copy.to_csv('pre_processed_df', index=False)"
   ]
  },
  {
   "cell_type": "code",
   "execution_count": null,
   "metadata": {},
   "outputs": [],
   "source": []
  }
 ],
 "metadata": {
  "kernelspec": {
   "display_name": "Python 3",
   "language": "python",
   "name": "python3"
  },
  "language_info": {
   "codemirror_mode": {
    "name": "ipython",
    "version": 3
   },
   "file_extension": ".py",
   "mimetype": "text/x-python",
   "name": "python",
   "nbconvert_exporter": "python",
   "pygments_lexer": "ipython3",
   "version": "3.7.7"
  }
 },
 "nbformat": 4,
 "nbformat_minor": 4
}
