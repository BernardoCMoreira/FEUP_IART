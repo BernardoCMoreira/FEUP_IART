{
 "cells": [
  {
   "cell_type": "code",
   "execution_count": 1,
   "metadata": {},
   "outputs": [],
   "source": [
    "import pandas as pd\n",
    "import numpy as np"
   ]
  },
  {
   "cell_type": "markdown",
   "metadata": {},
   "source": [
    "## <font color=black>Leitura de Dados</font> "
   ]
  },
  {
   "cell_type": "code",
   "execution_count": 2,
   "metadata": {},
   "outputs": [],
   "source": [
    "# Read all files \n",
    "country = pd.read_csv('Country_Original.csv')\n",
    "league = pd.read_csv('League_Original.csv')\n",
    "match = pd.read_csv('Match_Original.csv')\n",
    "player = pd.read_csv('Player_Original.csv')\n",
    "player_attributes = pd.read_csv('Player_Attributes_Original.csv')\n",
    "team = pd.read_csv('Team_Original.csv')\n",
    "team_attributes = pd.read_csv('Team_Attributes_Original.csv')\n",
    "\n",
    "pd.set_option('display.max_rows', None)\n",
    "pd.set_option('display.max_columns', None)"
   ]
  },
  {
   "cell_type": "markdown",
   "metadata": {},
   "source": [
    "## <font color=black>Organização e Limpeza de Dados</font> \n",
    "\n",
    "Pretendemos nesta secção do trabalho reduzir e tratar os dados de forma a que não exista informação irrelevante para o modelo que pretendemos construir.\n",
    "\n",
    "### <font color=black> - Eliminação de Valores Nulos</font>"
   ]
  },
  {
   "cell_type": "code",
   "execution_count": 3,
   "metadata": {},
   "outputs": [],
   "source": [
    "# Eliminar atributos relativos à posição dos jogadores\n",
    "player_attributes.drop(player_attributes.columns.to_series()[\"potential\":], axis=1, inplace = True)\n"
   ]
  },
  {
   "cell_type": "code",
   "execution_count": 4,
   "metadata": {},
   "outputs": [],
   "source": [
    "# Eliminar duplicados caso existam\n",
    "player_attributes.drop_duplicates(keep = False, inplace = True)"
   ]
  },
  {
   "cell_type": "code",
   "execution_count": 5,
   "metadata": {},
   "outputs": [
    {
     "data": {
      "text/plain": [
       "0"
      ]
     },
     "execution_count": 5,
     "metadata": {},
     "output_type": "execute_result"
    }
   ],
   "source": [
    "# Verficar se existe overall_ratings null\n",
    "player_attributes.dropna(axis=0, how=\"any\", subset =['overall_rating'], inplace=True)\n",
    "player_attributes['overall_rating'].isnull().sum()"
   ]
  },
  {
   "cell_type": "code",
   "execution_count": 6,
   "metadata": {
    "scrolled": true
   },
   "outputs": [],
   "source": [
    "# Eliminar atributos relativos à posição dos jogadores\n",
    "match.drop(match.columns.to_series()[\"home_player_X1\":\"away_player_Y11\"], axis=1, inplace = True)\n",
    "# Eliminar os seguintes atributos -> shoton, shotoff, foulcommit, card, cross, corner, possession\n",
    "match.drop(match.columns.to_series()[\"goal\":\"possession\"], axis=1,inplace = True)"
   ]
  },
  {
   "cell_type": "code",
   "execution_count": 7,
   "metadata": {},
   "outputs": [],
   "source": [
    "#Organizar dados por datas, do passado para o presente\n",
    "match['date'] = match['date'].astype('datetime64[ns]')\n",
    "match = match.sort_values(by=['date'], ascending=True)"
   ]
  },
  {
   "cell_type": "code",
   "execution_count": 8,
   "metadata": {},
   "outputs": [],
   "source": [
    "#Eliminar todos as linhas que não tenham nenhuma info sobre os jogadores\n",
    "match = match.dropna(axis=0, how=\"all\", subset=match.columns.to_series()[\"home_player_1\":\"away_player_11\"])"
   ]
  },
  {
   "cell_type": "code",
   "execution_count": 9,
   "metadata": {},
   "outputs": [],
   "source": [
    "#Eliminar todas as linhas que não tenham nenhuma odd relativa ao jogo\n",
    "match.dropna(axis=0, how=\"all\", subset=match.columns.to_series()[\"B365H\":], inplace=True)"
   ]
  },
  {
   "cell_type": "code",
   "execution_count": 10,
   "metadata": {},
   "outputs": [
    {
     "data": {
      "text/html": [
       "<div>\n",
       "<style scoped>\n",
       "    .dataframe tbody tr th:only-of-type {\n",
       "        vertical-align: middle;\n",
       "    }\n",
       "\n",
       "    .dataframe tbody tr th {\n",
       "        vertical-align: top;\n",
       "    }\n",
       "\n",
       "    .dataframe thead th {\n",
       "        text-align: right;\n",
       "    }\n",
       "</style>\n",
       "<table border=\"1\" class=\"dataframe\">\n",
       "  <thead>\n",
       "    <tr style=\"text-align: right;\">\n",
       "      <th></th>\n",
       "      <th>id</th>\n",
       "      <th>country_id</th>\n",
       "      <th>league_id</th>\n",
       "      <th>season</th>\n",
       "      <th>stage</th>\n",
       "      <th>date</th>\n",
       "      <th>match_api_id</th>\n",
       "      <th>home_team_api_id</th>\n",
       "      <th>away_team_api_id</th>\n",
       "      <th>home_team_goal</th>\n",
       "      <th>away_team_goal</th>\n",
       "      <th>home_player_1</th>\n",
       "      <th>home_player_2</th>\n",
       "      <th>home_player_3</th>\n",
       "      <th>home_player_4</th>\n",
       "      <th>home_player_5</th>\n",
       "      <th>home_player_6</th>\n",
       "      <th>home_player_7</th>\n",
       "      <th>home_player_8</th>\n",
       "      <th>home_player_9</th>\n",
       "      <th>home_player_10</th>\n",
       "      <th>home_player_11</th>\n",
       "      <th>away_player_1</th>\n",
       "      <th>away_player_2</th>\n",
       "      <th>away_player_3</th>\n",
       "      <th>away_player_4</th>\n",
       "      <th>away_player_5</th>\n",
       "      <th>away_player_6</th>\n",
       "      <th>away_player_7</th>\n",
       "      <th>away_player_8</th>\n",
       "      <th>away_player_9</th>\n",
       "      <th>away_player_10</th>\n",
       "      <th>away_player_11</th>\n",
       "      <th>B365H</th>\n",
       "      <th>B365D</th>\n",
       "      <th>B365A</th>\n",
       "      <th>BWH</th>\n",
       "      <th>BWD</th>\n",
       "      <th>BWA</th>\n",
       "      <th>IWH</th>\n",
       "      <th>IWD</th>\n",
       "      <th>IWA</th>\n",
       "      <th>LBH</th>\n",
       "      <th>LBD</th>\n",
       "      <th>LBA</th>\n",
       "      <th>PSH</th>\n",
       "      <th>PSD</th>\n",
       "      <th>PSA</th>\n",
       "      <th>WHH</th>\n",
       "      <th>WHD</th>\n",
       "      <th>WHA</th>\n",
       "      <th>SJH</th>\n",
       "      <th>SJD</th>\n",
       "      <th>SJA</th>\n",
       "      <th>VCH</th>\n",
       "      <th>VCD</th>\n",
       "      <th>VCA</th>\n",
       "      <th>GBH</th>\n",
       "      <th>GBD</th>\n",
       "      <th>GBA</th>\n",
       "      <th>BSH</th>\n",
       "      <th>BSD</th>\n",
       "      <th>BSA</th>\n",
       "    </tr>\n",
       "  </thead>\n",
       "  <tbody>\n",
       "  </tbody>\n",
       "</table>\n",
       "</div>"
      ],
      "text/plain": [
       "Empty DataFrame\n",
       "Columns: [id, country_id, league_id, season, stage, date, match_api_id, home_team_api_id, away_team_api_id, home_team_goal, away_team_goal, home_player_1, home_player_2, home_player_3, home_player_4, home_player_5, home_player_6, home_player_7, home_player_8, home_player_9, home_player_10, home_player_11, away_player_1, away_player_2, away_player_3, away_player_4, away_player_5, away_player_6, away_player_7, away_player_8, away_player_9, away_player_10, away_player_11, B365H, B365D, B365A, BWH, BWD, BWA, IWH, IWD, IWA, LBH, LBD, LBA, PSH, PSD, PSA, WHH, WHD, WHA, SJH, SJD, SJA, VCH, VCD, VCA, GBH, GBD, GBA, BSH, BSD, BSA]\n",
       "Index: []"
      ]
     },
     "execution_count": 10,
     "metadata": {},
     "output_type": "execute_result"
    }
   ],
   "source": [
    "#Eliminar partidas em que não são conhecidos pelo menos 8 jogadores que jogaram (para a Equipa da Casa)\n",
    "match = match.dropna(axis=0, thresh=8, subset=match.columns.to_series()[\"home_player_1\":\"home_player_11\"])\n",
    "#Verificação\n",
    "match.loc[match.loc[:,'home_player_1':'home_player_11'].count(axis=1) < 8]"
   ]
  },
  {
   "cell_type": "code",
   "execution_count": 11,
   "metadata": {},
   "outputs": [
    {
     "data": {
      "text/html": [
       "<div>\n",
       "<style scoped>\n",
       "    .dataframe tbody tr th:only-of-type {\n",
       "        vertical-align: middle;\n",
       "    }\n",
       "\n",
       "    .dataframe tbody tr th {\n",
       "        vertical-align: top;\n",
       "    }\n",
       "\n",
       "    .dataframe thead th {\n",
       "        text-align: right;\n",
       "    }\n",
       "</style>\n",
       "<table border=\"1\" class=\"dataframe\">\n",
       "  <thead>\n",
       "    <tr style=\"text-align: right;\">\n",
       "      <th></th>\n",
       "      <th>id</th>\n",
       "      <th>country_id</th>\n",
       "      <th>league_id</th>\n",
       "      <th>season</th>\n",
       "      <th>stage</th>\n",
       "      <th>date</th>\n",
       "      <th>match_api_id</th>\n",
       "      <th>home_team_api_id</th>\n",
       "      <th>away_team_api_id</th>\n",
       "      <th>home_team_goal</th>\n",
       "      <th>away_team_goal</th>\n",
       "      <th>home_player_1</th>\n",
       "      <th>home_player_2</th>\n",
       "      <th>home_player_3</th>\n",
       "      <th>home_player_4</th>\n",
       "      <th>home_player_5</th>\n",
       "      <th>home_player_6</th>\n",
       "      <th>home_player_7</th>\n",
       "      <th>home_player_8</th>\n",
       "      <th>home_player_9</th>\n",
       "      <th>home_player_10</th>\n",
       "      <th>home_player_11</th>\n",
       "      <th>away_player_1</th>\n",
       "      <th>away_player_2</th>\n",
       "      <th>away_player_3</th>\n",
       "      <th>away_player_4</th>\n",
       "      <th>away_player_5</th>\n",
       "      <th>away_player_6</th>\n",
       "      <th>away_player_7</th>\n",
       "      <th>away_player_8</th>\n",
       "      <th>away_player_9</th>\n",
       "      <th>away_player_10</th>\n",
       "      <th>away_player_11</th>\n",
       "      <th>B365H</th>\n",
       "      <th>B365D</th>\n",
       "      <th>B365A</th>\n",
       "      <th>BWH</th>\n",
       "      <th>BWD</th>\n",
       "      <th>BWA</th>\n",
       "      <th>IWH</th>\n",
       "      <th>IWD</th>\n",
       "      <th>IWA</th>\n",
       "      <th>LBH</th>\n",
       "      <th>LBD</th>\n",
       "      <th>LBA</th>\n",
       "      <th>PSH</th>\n",
       "      <th>PSD</th>\n",
       "      <th>PSA</th>\n",
       "      <th>WHH</th>\n",
       "      <th>WHD</th>\n",
       "      <th>WHA</th>\n",
       "      <th>SJH</th>\n",
       "      <th>SJD</th>\n",
       "      <th>SJA</th>\n",
       "      <th>VCH</th>\n",
       "      <th>VCD</th>\n",
       "      <th>VCA</th>\n",
       "      <th>GBH</th>\n",
       "      <th>GBD</th>\n",
       "      <th>GBA</th>\n",
       "      <th>BSH</th>\n",
       "      <th>BSD</th>\n",
       "      <th>BSA</th>\n",
       "    </tr>\n",
       "  </thead>\n",
       "  <tbody>\n",
       "  </tbody>\n",
       "</table>\n",
       "</div>"
      ],
      "text/plain": [
       "Empty DataFrame\n",
       "Columns: [id, country_id, league_id, season, stage, date, match_api_id, home_team_api_id, away_team_api_id, home_team_goal, away_team_goal, home_player_1, home_player_2, home_player_3, home_player_4, home_player_5, home_player_6, home_player_7, home_player_8, home_player_9, home_player_10, home_player_11, away_player_1, away_player_2, away_player_3, away_player_4, away_player_5, away_player_6, away_player_7, away_player_8, away_player_9, away_player_10, away_player_11, B365H, B365D, B365A, BWH, BWD, BWA, IWH, IWD, IWA, LBH, LBD, LBA, PSH, PSD, PSA, WHH, WHD, WHA, SJH, SJD, SJA, VCH, VCD, VCA, GBH, GBD, GBA, BSH, BSD, BSA]\n",
       "Index: []"
      ]
     },
     "execution_count": 11,
     "metadata": {},
     "output_type": "execute_result"
    }
   ],
   "source": [
    "#Eliminar partidas em que não são conhecidos pelo menos 8 jogadores que jogaram (para a Equipa de Fora)\n",
    "match = match.dropna(axis=0, thresh=8, subset=match.columns.to_series()[\"away_player_1\":\"away_player_11\"])\n",
    "#Verificação\n",
    "match.loc[match.loc[:,'away_player_1':'away_player_11'].count(axis=1) < 8]"
   ]
  },
  {
   "cell_type": "markdown",
   "metadata": {},
   "source": [
    "### <font color=black> - Substituição de Valores Nulos </font>"
   ]
  },
  {
   "cell_type": "code",
   "execution_count": 12,
   "metadata": {
    "scrolled": true
   },
   "outputs": [],
   "source": [
    "#Passar o formato dos atributos 'date' para formato de tempo\n",
    "match['date'] = match['date'].astype('datetime64[ns]') \n",
    "player_attributes['date'] = player_attributes['date'].astype('datetime64[ns]') \n"
   ]
  },
  {
   "cell_type": "code",
   "execution_count": 13,
   "metadata": {},
   "outputs": [
    {
     "ename": "KeyError",
     "evalue": "('player_api_id', 'heigth', 'weigth')",
     "output_type": "error",
     "traceback": [
      "\u001b[1;31m---------------------------------------------------------------------------\u001b[0m",
      "\u001b[1;31mKeyError\u001b[0m                                  Traceback (most recent call last)",
      "\u001b[1;32m~\\anaconda3\\lib\\site-packages\\pandas\\core\\indexes\\base.py\u001b[0m in \u001b[0;36mget_loc\u001b[1;34m(self, key, method, tolerance)\u001b[0m\n\u001b[0;32m   2645\u001b[0m             \u001b[1;32mtry\u001b[0m\u001b[1;33m:\u001b[0m\u001b[1;33m\u001b[0m\u001b[1;33m\u001b[0m\u001b[0m\n\u001b[1;32m-> 2646\u001b[1;33m                 \u001b[1;32mreturn\u001b[0m \u001b[0mself\u001b[0m\u001b[1;33m.\u001b[0m\u001b[0m_engine\u001b[0m\u001b[1;33m.\u001b[0m\u001b[0mget_loc\u001b[0m\u001b[1;33m(\u001b[0m\u001b[0mkey\u001b[0m\u001b[1;33m)\u001b[0m\u001b[1;33m\u001b[0m\u001b[1;33m\u001b[0m\u001b[0m\n\u001b[0m\u001b[0;32m   2647\u001b[0m             \u001b[1;32mexcept\u001b[0m \u001b[0mKeyError\u001b[0m\u001b[1;33m:\u001b[0m\u001b[1;33m\u001b[0m\u001b[1;33m\u001b[0m\u001b[0m\n",
      "\u001b[1;32mpandas\\_libs\\index.pyx\u001b[0m in \u001b[0;36mpandas._libs.index.IndexEngine.get_loc\u001b[1;34m()\u001b[0m\n",
      "\u001b[1;32mpandas\\_libs\\index.pyx\u001b[0m in \u001b[0;36mpandas._libs.index.IndexEngine.get_loc\u001b[1;34m()\u001b[0m\n",
      "\u001b[1;32mpandas\\_libs\\hashtable_class_helper.pxi\u001b[0m in \u001b[0;36mpandas._libs.hashtable.PyObjectHashTable.get_item\u001b[1;34m()\u001b[0m\n",
      "\u001b[1;32mpandas\\_libs\\hashtable_class_helper.pxi\u001b[0m in \u001b[0;36mpandas._libs.hashtable.PyObjectHashTable.get_item\u001b[1;34m()\u001b[0m\n",
      "\u001b[1;31mKeyError\u001b[0m: ('player_api_id', 'heigth', 'weigth')",
      "\nDuring handling of the above exception, another exception occurred:\n",
      "\u001b[1;31mKeyError\u001b[0m                                  Traceback (most recent call last)",
      "\u001b[1;32m<ipython-input-13-18a8a8f9a213>\u001b[0m in \u001b[0;36m<module>\u001b[1;34m\u001b[0m\n\u001b[1;32m----> 1\u001b[1;33m \u001b[0mmatch\u001b[0m \u001b[1;33m=\u001b[0m \u001b[0mpd\u001b[0m\u001b[1;33m.\u001b[0m\u001b[0mmerge\u001b[0m\u001b[1;33m(\u001b[0m\u001b[0mleft\u001b[0m\u001b[1;33m=\u001b[0m\u001b[0mmatch\u001b[0m\u001b[1;33m,\u001b[0m \u001b[0mright\u001b[0m\u001b[1;33m=\u001b[0m\u001b[0mplayer\u001b[0m\u001b[1;33m[\u001b[0m\u001b[1;34m'player_api_id'\u001b[0m\u001b[1;33m,\u001b[0m\u001b[1;34m'heigth'\u001b[0m\u001b[1;33m,\u001b[0m\u001b[1;34m'weigth'\u001b[0m\u001b[1;33m]\u001b[0m\u001b[1;33m,\u001b[0m \u001b[0mhow\u001b[0m\u001b[1;33m=\u001b[0m\u001b[1;34m'left'\u001b[0m\u001b[1;33m,\u001b[0m \u001b[0mleft_on\u001b[0m\u001b[1;33m=\u001b[0m\u001b[1;34m'home_player_1'\u001b[0m\u001b[1;33m,\u001b[0m \u001b[0mright_on\u001b[0m\u001b[1;33m=\u001b[0m\u001b[1;34m'player_api_id'\u001b[0m\u001b[1;33m)\u001b[0m\u001b[1;33m\u001b[0m\u001b[1;33m\u001b[0m\u001b[0m\n\u001b[0m",
      "\u001b[1;32m~\\anaconda3\\lib\\site-packages\\pandas\\core\\frame.py\u001b[0m in \u001b[0;36m__getitem__\u001b[1;34m(self, key)\u001b[0m\n\u001b[0;32m   2798\u001b[0m             \u001b[1;32mif\u001b[0m \u001b[0mself\u001b[0m\u001b[1;33m.\u001b[0m\u001b[0mcolumns\u001b[0m\u001b[1;33m.\u001b[0m\u001b[0mnlevels\u001b[0m \u001b[1;33m>\u001b[0m \u001b[1;36m1\u001b[0m\u001b[1;33m:\u001b[0m\u001b[1;33m\u001b[0m\u001b[1;33m\u001b[0m\u001b[0m\n\u001b[0;32m   2799\u001b[0m                 \u001b[1;32mreturn\u001b[0m \u001b[0mself\u001b[0m\u001b[1;33m.\u001b[0m\u001b[0m_getitem_multilevel\u001b[0m\u001b[1;33m(\u001b[0m\u001b[0mkey\u001b[0m\u001b[1;33m)\u001b[0m\u001b[1;33m\u001b[0m\u001b[1;33m\u001b[0m\u001b[0m\n\u001b[1;32m-> 2800\u001b[1;33m             \u001b[0mindexer\u001b[0m \u001b[1;33m=\u001b[0m \u001b[0mself\u001b[0m\u001b[1;33m.\u001b[0m\u001b[0mcolumns\u001b[0m\u001b[1;33m.\u001b[0m\u001b[0mget_loc\u001b[0m\u001b[1;33m(\u001b[0m\u001b[0mkey\u001b[0m\u001b[1;33m)\u001b[0m\u001b[1;33m\u001b[0m\u001b[1;33m\u001b[0m\u001b[0m\n\u001b[0m\u001b[0;32m   2801\u001b[0m             \u001b[1;32mif\u001b[0m \u001b[0mis_integer\u001b[0m\u001b[1;33m(\u001b[0m\u001b[0mindexer\u001b[0m\u001b[1;33m)\u001b[0m\u001b[1;33m:\u001b[0m\u001b[1;33m\u001b[0m\u001b[1;33m\u001b[0m\u001b[0m\n\u001b[0;32m   2802\u001b[0m                 \u001b[0mindexer\u001b[0m \u001b[1;33m=\u001b[0m \u001b[1;33m[\u001b[0m\u001b[0mindexer\u001b[0m\u001b[1;33m]\u001b[0m\u001b[1;33m\u001b[0m\u001b[1;33m\u001b[0m\u001b[0m\n",
      "\u001b[1;32m~\\anaconda3\\lib\\site-packages\\pandas\\core\\indexes\\base.py\u001b[0m in \u001b[0;36mget_loc\u001b[1;34m(self, key, method, tolerance)\u001b[0m\n\u001b[0;32m   2646\u001b[0m                 \u001b[1;32mreturn\u001b[0m \u001b[0mself\u001b[0m\u001b[1;33m.\u001b[0m\u001b[0m_engine\u001b[0m\u001b[1;33m.\u001b[0m\u001b[0mget_loc\u001b[0m\u001b[1;33m(\u001b[0m\u001b[0mkey\u001b[0m\u001b[1;33m)\u001b[0m\u001b[1;33m\u001b[0m\u001b[1;33m\u001b[0m\u001b[0m\n\u001b[0;32m   2647\u001b[0m             \u001b[1;32mexcept\u001b[0m \u001b[0mKeyError\u001b[0m\u001b[1;33m:\u001b[0m\u001b[1;33m\u001b[0m\u001b[1;33m\u001b[0m\u001b[0m\n\u001b[1;32m-> 2648\u001b[1;33m                 \u001b[1;32mreturn\u001b[0m \u001b[0mself\u001b[0m\u001b[1;33m.\u001b[0m\u001b[0m_engine\u001b[0m\u001b[1;33m.\u001b[0m\u001b[0mget_loc\u001b[0m\u001b[1;33m(\u001b[0m\u001b[0mself\u001b[0m\u001b[1;33m.\u001b[0m\u001b[0m_maybe_cast_indexer\u001b[0m\u001b[1;33m(\u001b[0m\u001b[0mkey\u001b[0m\u001b[1;33m)\u001b[0m\u001b[1;33m)\u001b[0m\u001b[1;33m\u001b[0m\u001b[1;33m\u001b[0m\u001b[0m\n\u001b[0m\u001b[0;32m   2649\u001b[0m         \u001b[0mindexer\u001b[0m \u001b[1;33m=\u001b[0m \u001b[0mself\u001b[0m\u001b[1;33m.\u001b[0m\u001b[0mget_indexer\u001b[0m\u001b[1;33m(\u001b[0m\u001b[1;33m[\u001b[0m\u001b[0mkey\u001b[0m\u001b[1;33m]\u001b[0m\u001b[1;33m,\u001b[0m \u001b[0mmethod\u001b[0m\u001b[1;33m=\u001b[0m\u001b[0mmethod\u001b[0m\u001b[1;33m,\u001b[0m \u001b[0mtolerance\u001b[0m\u001b[1;33m=\u001b[0m\u001b[0mtolerance\u001b[0m\u001b[1;33m)\u001b[0m\u001b[1;33m\u001b[0m\u001b[1;33m\u001b[0m\u001b[0m\n\u001b[0;32m   2650\u001b[0m         \u001b[1;32mif\u001b[0m \u001b[0mindexer\u001b[0m\u001b[1;33m.\u001b[0m\u001b[0mndim\u001b[0m \u001b[1;33m>\u001b[0m \u001b[1;36m1\u001b[0m \u001b[1;32mor\u001b[0m \u001b[0mindexer\u001b[0m\u001b[1;33m.\u001b[0m\u001b[0msize\u001b[0m \u001b[1;33m>\u001b[0m \u001b[1;36m1\u001b[0m\u001b[1;33m:\u001b[0m\u001b[1;33m\u001b[0m\u001b[1;33m\u001b[0m\u001b[0m\n",
      "\u001b[1;32mpandas\\_libs\\index.pyx\u001b[0m in \u001b[0;36mpandas._libs.index.IndexEngine.get_loc\u001b[1;34m()\u001b[0m\n",
      "\u001b[1;32mpandas\\_libs\\index.pyx\u001b[0m in \u001b[0;36mpandas._libs.index.IndexEngine.get_loc\u001b[1;34m()\u001b[0m\n",
      "\u001b[1;32mpandas\\_libs\\hashtable_class_helper.pxi\u001b[0m in \u001b[0;36mpandas._libs.hashtable.PyObjectHashTable.get_item\u001b[1;34m()\u001b[0m\n",
      "\u001b[1;32mpandas\\_libs\\hashtable_class_helper.pxi\u001b[0m in \u001b[0;36mpandas._libs.hashtable.PyObjectHashTable.get_item\u001b[1;34m()\u001b[0m\n",
      "\u001b[1;31mKeyError\u001b[0m: ('player_api_id', 'heigth', 'weigth')"
     ]
    }
   ],
   "source": [
    "match = pd.append(player['player_api_id','heigth','weigth'], how='left', left_on='home_player_1', right_on='player_api_id')"
   ]
  },
  {
   "cell_type": "code",
   "execution_count": null,
   "metadata": {},
   "outputs": [],
   "source": [
    "match.head()"
   ]
  },
  {
   "cell_type": "code",
   "execution_count": null,
   "metadata": {},
   "outputs": [],
   "source": [
    "#Cópia do dataframe original\n",
    "match_copy_test=  match.copy()\n",
    "\n",
    "match_copy_test = match_copy_test.head(100)\n",
    "\n",
    "\n",
    "for i in range(1,12):\n",
    "    for index, row in match_copy_test.iterrows():\n",
    "        \n",
    "        if(row[\"home_player_\"+\"%s\" % i] == np.nan):\n",
    "            continue\n",
    "        if(row[\"away_player_\"+\"%s\" % i]== np.nan):\n",
    "            continue\n",
    "        try:    \n",
    "            player_skill_home = player_attributes.loc[player_attributes['player_api_id'] == row[\"home_player_\"+\"%s\" % i]]\n",
    "            date_season_home = player_skill_home.loc[player_skill_home['date'] <= row['date']]\n",
    "\n",
    "            recent_date_home = date_season_home.loc[[date_season_home.date.idxmax()]]\n",
    "            match_copy_test.at[row['id']-1,'home_player_'+'%s' % i] = recent_date_home['overall_rating']\n",
    "\n",
    "            player_skill_away = player_attributes.loc[player_attributes['player_api_id'] == row[\"away_player_\"+\"%s\" % i]]\n",
    "            date_season_away = player_skill_away.loc[player_skill_away['date'] <= row['date']]\n",
    "\n",
    "            recent_date_away = date_season_away.loc[[date_season_away.date.idxmax()]]\n",
    "            match_copy_test.at[row['id']-1,'away_player_'+'%s' % i] = recent_date_away['overall_rating'].tolist()[0]\n",
    "            \n",
    "            #print(row['id']-1,\"-------\",recent_date_away['player_api_id'].tolist()[0] ,recent_date_away['overall_rating'].tolist()[0])\n",
    "                \n",
    "        except ValueError:\n",
    "            pass\n",
    "  \n",
    "    \n",
    "    \n",
    "#Put away players rating in match    \n",
    "#for i in range(1,12):\n",
    "    #result_away = pd.merge(match, player_attributes[['player_api_id','overall_rating']], left_on=\"away_player_\"+\"%s\" % i, right_on='player_api_id', how='left')\n",
    "    #match[\"away_player_\"+\"%s\" % i] = result_away[\"overall_rating\"]"
   ]
  },
  {
   "cell_type": "code",
   "execution_count": null,
   "metadata": {},
   "outputs": [],
   "source": [
    "# Dada uma lista de timeStamps, retorna o valor mais baixo!\n",
    "\n",
    "def getTimeStampsMinValue(df):\n",
    "    aux = df.tolist()[0]\n",
    "    for i in range (0, df.size):\n",
    "        if(aux > df.tolist()[i]):\n",
    "            aux = df.tolist()[i]\n",
    "    return aux;"
   ]
  },
  {
   "cell_type": "code",
   "execution_count": null,
   "metadata": {},
   "outputs": [],
   "source": [
    "# Dada uma lista de todas as datas, escolhe-se a data mais recente, da perspetiva da data do jogo\n",
    "# isto é, escolhe-se a data mais recente, sendo que esta tem de ser menor ou igual da data do jogo\n",
    "\n",
    "def getMostRecentMatchDate(dates, dates_length, match_date):\n",
    "    aux_date = getTimeStampsMinValue(dates)\n",
    "    for i in range(0,dates_length):\n",
    "        if dates.tolist()[i] <= match_date:\n",
    "            if dates.tolist()[i] > aux_date:\n",
    "                aux_date = dates.tolist()[i]\n",
    "    return aux_date    "
   ]
  },
  {
   "cell_type": "code",
   "execution_count": null,
   "metadata": {},
   "outputs": [],
   "source": [
    "print(match.iloc[0][\"date\"])"
   ]
  },
  {
   "cell_type": "code",
   "execution_count": null,
   "metadata": {},
   "outputs": [],
   "source": [
    "# Dada a data mais recente, vai-se buscar o respetivo \"overall_rating\" do jogador que se atribuir (Fora)\n",
    "def getMostRecentOverallFromAwayPlayer(index, player_number):\n",
    "    if pd.isna(match.iloc[index][\"away_player_\" + \"%s\" % player_number]):\n",
    "            return \n",
    "    new = player_attributes[\"player_api_id\"].isin([match.iloc[index][\"away_player_\" + \"%s\" % player_number]])\n",
    "    dates_length = player_attributes[new][\"date\"].size\n",
    "    ai = getMostRecentMatchDate(player_attributes[new][\"date\"], dates_length, match.iloc[index][\"date\"])\n",
    "    player_attributes[new].loc[player_attributes[\"date\"] == ai]\n",
    "    overall_rating = player_attributes[new].loc[player_attributes[\"date\"] == ai][\"overall_rating\"].tolist()[0]\n",
    "    return overall_rating"
   ]
  },
  {
   "cell_type": "code",
   "execution_count": null,
   "metadata": {},
   "outputs": [],
   "source": [
    "# Dada a data mais recente, vai-se buscar o respetivo \"overall_rating\" do jogador que se atribuir (Casa)\n",
    "def getMostRecentOverallFromHomePlayer(index, player_number):\n",
    "    if pd.isna(match.iloc[index][\"home_player_\" + \"%s\" % player_number]):\n",
    "            return \n",
    "    new = player_attributes[\"player_api_id\"].isin([match.iloc[index][\"home_player_\" + \"%s\" % player_number]])\n",
    "    dates_length = player_attributes[new][\"date\"].size\n",
    "    ai = getMostRecentMatchDate(player_attributes[new][\"date\"], dates_length, match.iloc[index][\"date\"])\n",
    "    player_attributes[new].loc[player_attributes[\"date\"] == ai]\n",
    "    overall_rating = player_attributes[new].loc[player_attributes[\"date\"] == ai][\"overall_rating\"].tolist()[0]\n",
    "    return overall_rating"
   ]
  },
  {
   "cell_type": "code",
   "execution_count": null,
   "metadata": {},
   "outputs": [],
   "source": [
    "# Dada uma lista com todas as ratings de uma equipa, para um jogo, calcula-se a media, ignorando os null values\n",
    "def calculateAverageOverallRating(teamRatings):\n",
    "    numberOfValidArguments = 0\n",
    "    totalSum = 0\n",
    "    for i in range(0,len(teamRatings)):\n",
    "        if pd.isna(teamRatings[i]):\n",
    "             continue\n",
    "        else:\n",
    "            numberOfValidArguments += 1\n",
    "            totalSum += teamRatings[i]    \n",
    "    return round(totalSum/numberOfValidArguments, 1)\n"
   ]
  },
  {
   "cell_type": "code",
   "execution_count": null,
   "metadata": {},
   "outputs": [],
   "source": [
    "def generateDataframeWithAverageOveralls():\n",
    "    newListBig = []\n",
    "    match_depth = match.shape[0]\n",
    "    for index in range (0, 100):\n",
    "    #for index in range (0, match_depth):\n",
    "        newListHome = []\n",
    "        newListAway = []\n",
    "        for i in range(1,12):\n",
    "                newListHome.append(getMostRecentOverallFromHomePlayer(index,i))\n",
    "                newListAway.append(getMostRecentOverallFromAwayPlayer(index,i))\n",
    "\n",
    "        newListBig.append([match.id.tolist()[index],calculateAverageOverallRating(newListHome) ,calculateAverageOverallRating(newListAway)])\n",
    "\n",
    "\n",
    "    new_dataset = pd.DataFrame(newListBig, columns =[ \"match_id\",\"home_overall\",\"away_overall\"])\n",
    "    display(new_dataset)"
   ]
  },
  {
   "cell_type": "code",
   "execution_count": null,
   "metadata": {
    "scrolled": true
   },
   "outputs": [],
   "source": [
    "#generateDataframeWithAverageOveralls()"
   ]
  },
  {
   "cell_type": "code",
   "execution_count": null,
   "metadata": {},
   "outputs": [],
   "source": [
    "#new_dataset.to_csv(\"OverallAverages.csv\", index=False)"
   ]
  },
  {
   "cell_type": "code",
   "execution_count": null,
   "metadata": {},
   "outputs": [],
   "source": [
    "print(match.shape[0])"
   ]
  },
  {
   "cell_type": "code",
   "execution_count": null,
   "metadata": {},
   "outputs": [],
   "source": [
    "def analyseHomePlayer(row, number, index):\n",
    "    new = player[\"player_api_id\"].isin([row[\"home_player_\"+\"%s\" % number]])\n",
    "    new2 = player_attributes[\"player_api_id\"].isin(\n",
    "        [row[\"home_player_\"+\"%s\" % number]])\n",
    "\n",
    "    return player_attributes[new2]['overall_rating'].tolist()[index]\n",
    "\n",
    "def analyseAwayPlayer(row, number, index):\n",
    "    new = player[\"player_api_id\"].isin([row[\"away_player_\"+\"%s\" % number]])\n",
    "    new2 = player_attributes[\"player_api_id\"].isin(\n",
    "        [row[\"away_player_\"+\"%s\" % number]])\n",
    "\n",
    "    return player_attributes[new2]['overall_rating'].tolist()[index]\n",
    "\n",
    "\n",
    "def analyseHomePlayers(row, index):\n",
    "    sum = 0\n",
    "    for i in range(1, 12):\n",
    "       sum += analyseHomePlayer(row, i, index)\n",
    "    return sum\n",
    "\n",
    "\n",
    "def analyseAwayPlayers(row):\n",
    "    sum = 0\n",
    "    for i in range(1, 12):\n",
    "        sum += analyseAwayPlayer(row, i, index)\n",
    "    return sum\n"
   ]
  },
  {
   "cell_type": "code",
   "execution_count": null,
   "metadata": {},
   "outputs": [],
   "source": [
    "def analyseHomePlayersHeight(row):\n",
    "    sum = 0\n",
    "    for i in range(1, 12):\n",
    "       new = player[\"player_api_id\"].isin([row[\"home_player_\"+\"%s\" % i]])\n",
    "       sum += player[new][\"height\"].tolist()[0]\n",
    "    return round(sum/11, 1)\n",
    "\n",
    "\n",
    "def analyseAwayPlayersHeight(row):\n",
    "    sum = 0\n",
    "    for i in range(1, 12):\n",
    "       new = player[\"player_api_id\"].isin([row[\"away_player_\"+\"%s\" % i]])\n",
    "       sum += player[new][\"height\"].tolist()[0]\n",
    "    return round(sum/11, 1)\n",
    "\n",
    "\n",
    "def analyseHomePlayersWeight(row):\n",
    "    sum = 0\n",
    "    for i in range(1, 12):\n",
    "       new = player[\"player_api_id\"].isin([row[\"home_player_\"+\"%s\" % i]])\n",
    "       sum += player[new][\"weight\"].tolist()[0]\n",
    "    return round(sum/11, 1)\n",
    "\n",
    "\n",
    "def analyseAwayPlayersWeight(row):\n",
    "    sum = 0\n",
    "    for i in range(1, 12):\n",
    "       new = player[\"player_api_id\"].isin([row[\"away_player_\"+\"%s\" % i]])\n",
    "       sum += player[new][\"weight\"].tolist()[0]\n",
    "    return round(sum/11, 1)"
   ]
  },
  {
   "cell_type": "code",
   "execution_count": null,
   "metadata": {},
   "outputs": [],
   "source": [
    "def analyseTeamOdd(row, string, index):\n",
    "    #10 websites\n",
    "    sum = 0\n",
    "    sum += match[\"B365\"+\"%s\" % string].tolist()[index]\n",
    "    sum += match[\"BW\"+\"%s\" % string].tolist()[index]\n",
    "    sum += match[\"IW\"+\"%s\" % string].tolist()[index]\n",
    "    sum += match[\"LB\"+\"%s\" % string].tolist()[index]\n",
    "    sum += match[\"PS\"+\"%s\" % string].tolist()[index]\n",
    "    sum += match[\"WH\"+\"%s\" % string].tolist()[index]\n",
    "    sum += match[\"SJ\"+\"%s\" % string].tolist()[index]\n",
    "    sum += match[\"VC\"+\"%s\" % string].tolist()[index]\n",
    "    sum += match[\"GB\"+\"%s\" % string].tolist()[index]\n",
    "    sum += match[\"BS\"+\"%s\" % string].tolist()[index]\n",
    "    return round(sum/10, 2)"
   ]
  },
  {
   "cell_type": "code",
   "execution_count": null,
   "metadata": {},
   "outputs": [],
   "source": [
    "def analyseOffenseRates(row,index,string):\n",
    "    new = team_attributes[\"team_api_id\"].isin([row[\"%s\" %string]])\n",
    "    passing = team_attributes[new][\"chanceCreationPassing\"].tolist()[0]\n",
    "    crossing = team_attributes[new][\"chanceCreationCrossing\"].tolist()[0]\n",
    "    shooting = team_attributes[new][\"chanceCreationShooting\"].tolist()[0]\n",
    "    return round((passing+shooting+crossing)/3, 1)\n",
    "\n",
    "def analyseCenterRates(row,index,string):\n",
    "    new = team_attributes[\"team_api_id\"].isin([row[\"%s\" % string]])\n",
    "    dribling = team_attributes[new][\"buildUpPlayDribbling\"].tolist()[0]\n",
    "    BUpassing = team_attributes[new][\"buildUpPlayPassing\"].tolist()[0]\n",
    "    speed = team_attributes[new][\"buildUpPlaySpeed\"].tolist()[0]\n",
    "    return round((dribling+BUpassing+speed)/3, 1)\n",
    "\n",
    "def analyseDefenceRates(row,index,string):\n",
    "    new = team_attributes[\"team_api_id\"].isin([row[\"%s\" % string]])\n",
    "    agression = team_attributes[new][\"defenceAggression\"].tolist()[0]\n",
    "    width = team_attributes[new][\"defenceTeamWidth\"].tolist()[0]\n",
    "    pressure = team_attributes[new][\"defencePressure\"].tolist()[0]\n",
    "    return round((agression+width+pressure)/3, 1)"
   ]
  },
  {
   "cell_type": "code",
   "execution_count": null,
   "metadata": {},
   "outputs": [],
   "source": [
    "def analyseDifGoals(row, index):\n",
    "    return match[\"home_team_goal\"].tolist()[index] - match[\"away_team_goal\"].tolist()[index]"
   ]
  },
  {
   "cell_type": "code",
   "execution_count": null,
   "metadata": {},
   "outputs": [],
   "source": [
    "'''def generateDataframeWithAverageOveralls1():\n",
    "    newListBig = []\n",
    "    match_depth = match.shape[0]\n",
    "    for index in range (0, 100):\n",
    "    #for index in range (0, match_depth):\n",
    "        newListHome = []\n",
    "        newListAway = []\n",
    "        for i in range(1,12):\n",
    "                newListHome.append(getMostRecentOverallFromHomePlayer(index,i))\n",
    "                newListAway.append(getMostRecentOverallFromAwayPlayer(index,i))\n",
    "\n",
    "        newListBig.append([match.id.tolist()[index],calculateAverageOverallRating(newListHome) ,calculateAverageOverallRating(newListAway),\n",
    "                            analyseDifGoals(match.iloc[index], index),\n",
    "                            analyseOffenseRates(match.iloc[index],index, \"home_team_api_id\"),\n",
    "                            analyseCenterRates(match.iloc[index],index, \"home_team_api_id\"),\n",
    "                            analyseDefenceRates(match.iloc[index],index, \"home_team_api_id\"),\n",
    "            \n",
    "                              ])\n",
    "\n",
    "\n",
    "    new_dataset = pd.DataFrame(newListBig, columns =[ \"match_id\",\"home_overall\",\"away_overall\", \"dif_goals\", \n",
    "                                                    'home_team_offense_rates','home_team_center_rates','home_team_defense_rates'\n",
    "                                                   ])\n",
    "    display(new_dataset)'''''"
   ]
  },
  {
   "cell_type": "code",
   "execution_count": null,
   "metadata": {},
   "outputs": [],
   "source": []
  }
 ],
 "metadata": {
  "kernelspec": {
   "display_name": "Python 3",
   "language": "python",
   "name": "python3"
  },
  "language_info": {
   "codemirror_mode": {
    "name": "ipython",
    "version": 3
   },
   "file_extension": ".py",
   "mimetype": "text/x-python",
   "name": "python",
   "nbconvert_exporter": "python",
   "pygments_lexer": "ipython3",
   "version": "3.7.7"
  }
 },
 "nbformat": 4,
 "nbformat_minor": 4
}
