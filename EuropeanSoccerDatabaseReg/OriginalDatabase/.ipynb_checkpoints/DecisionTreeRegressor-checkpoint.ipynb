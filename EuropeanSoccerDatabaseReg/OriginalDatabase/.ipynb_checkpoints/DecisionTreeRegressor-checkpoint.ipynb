{
 "cells": [
  {
   "cell_type": "code",
   "execution_count": 23,
   "metadata": {},
   "outputs": [],
   "source": [
    "import pandas as pd\n",
    "import numpy as np \n",
    "import matplotlib.pyplot as plt\n",
    "from sklearn.tree import DecisionTreeRegressor \n",
    "from sklearn.metrics import accuracy_score"
   ]
  },
  {
   "cell_type": "code",
   "execution_count": 24,
   "metadata": {},
   "outputs": [],
   "source": [
    "# Read all files \n",
    "df = pd.read_csv('pre_processed_df')"
   ]
  },
  {
   "cell_type": "code",
   "execution_count": 28,
   "metadata": {},
   "outputs": [
    {
     "data": {
      "text/plain": [
       "Index(['id', 'league_id', 'season', 'stage', 'date', 'match_api_id',\n",
       "       'home_team_api_id', 'away_team_api_id', 'mean_height_home',\n",
       "       'mean_weight_home', 'mean_height_away', 'mean_weight_away',\n",
       "       'mean_ods_home', 'mean_ods_draw', 'mean_ods_away', 'mean_or_home',\n",
       "       'mean_or_away', 'dif_goals', 'offense_team_rates_home',\n",
       "       'center_team_rates_home', 'defense_team_rates_home',\n",
       "       'offense_team_rates_away', 'center_team_rates_away',\n",
       "       'defense_team_rates_away'],\n",
       "      dtype='object')"
      ]
     },
     "execution_count": 28,
     "metadata": {},
     "output_type": "execute_result"
    }
   ],
   "source": [
    "df.columns"
   ]
  },
  {
   "cell_type": "code",
   "execution_count": 34,
   "metadata": {},
   "outputs": [],
   "source": [
    "x = df.loc[:,['mean_height_home','mean_weight_home', 'mean_height_away', 'mean_weight_away','mean_ods_home',\n",
    "        'mean_ods_draw', 'mean_ods_away', 'mean_or_home',\n",
    "        'mean_or_away', 'dif_goals', 'offense_team_rates_home',\n",
    "       'center_team_rates_home', 'defense_team_rates_home',\n",
    "       'offense_team_rates_away', 'center_team_rates_away',\n",
    "       'defense_team_rates_away']]\n",
    "\n",
    "y = df.loc[:,['dif_goals']]"
   ]
  },
  {
   "cell_type": "code",
   "execution_count": null,
   "metadata": {},
   "outputs": [],
   "source": []
  },
  {
   "cell_type": "code",
   "execution_count": 27,
   "metadata": {},
   "outputs": [],
   "source": [
    "# Create a regressor object \n",
    "regressor = DecisionTreeRegressor(random_state = 0)"
   ]
  },
  {
   "cell_type": "code",
   "execution_count": null,
   "metadata": {},
   "outputs": [],
   "source": [
    "# Fit the regressor with X and Y data \n",
    "regressor.fit(X, y)"
   ]
  }
 ],
 "metadata": {
  "kernelspec": {
   "display_name": "Python 3",
   "language": "python",
   "name": "python3"
  },
  "language_info": {
   "codemirror_mode": {
    "name": "ipython",
    "version": 3
   },
   "file_extension": ".py",
   "mimetype": "text/x-python",
   "name": "python",
   "nbconvert_exporter": "python",
   "pygments_lexer": "ipython3",
   "version": "3.7.7"
  }
 },
 "nbformat": 4,
 "nbformat_minor": 4
}
