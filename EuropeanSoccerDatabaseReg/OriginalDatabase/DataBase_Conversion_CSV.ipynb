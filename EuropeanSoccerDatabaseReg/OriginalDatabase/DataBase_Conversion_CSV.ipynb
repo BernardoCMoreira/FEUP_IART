{
 "cells": [
  {
   "cell_type": "code",
   "execution_count": 16,
   "metadata": {},
   "outputs": [],
   "source": [
    "import os\n",
    "import pandas as pd\n",
    "import numpy as np\n",
    "import sqlite3\n",
    "import matplotlib.pyplot as plt"
   ]
  },
  {
   "cell_type": "code",
   "execution_count": 17,
   "metadata": {},
   "outputs": [],
   "source": [
    "con = sqlite3.connect('database.sqlite')"
   ]
  },
  {
   "cell_type": "code",
   "execution_count": 18,
   "metadata": {},
   "outputs": [],
   "source": [
    "#Select Country from database\n",
    "df_Country = pd.read_sql_query(\"SELECT * FROM Country\", con)"
   ]
  },
  {
   "cell_type": "code",
   "execution_count": 19,
   "metadata": {},
   "outputs": [],
   "source": [
    "#Select League from database\n",
    "df_League = pd.read_sql_query(\"SELECT * FROM League\", con)"
   ]
  },
  {
   "cell_type": "code",
   "execution_count": 20,
   "metadata": {},
   "outputs": [],
   "source": [
    "#Select Match from database\n",
    "df_Match = pd.read_sql_query(\"SELECT * FROM Match\", con)"
   ]
  },
  {
   "cell_type": "code",
   "execution_count": 21,
   "metadata": {},
   "outputs": [],
   "source": [
    "#Select Player from database\n",
    "df_Player = pd.read_sql_query(\"SELECT * FROM Player\", con)"
   ]
  },
  {
   "cell_type": "code",
   "execution_count": 22,
   "metadata": {},
   "outputs": [],
   "source": [
    "#Select Player Attributes from database\n",
    "df_Player_Attributes = pd.read_sql_query(\"SELECT * FROM Player_Attributes\", con)"
   ]
  },
  {
   "cell_type": "code",
   "execution_count": 23,
   "metadata": {},
   "outputs": [],
   "source": [
    "#Select Team from database\n",
    "df_Team = pd.read_sql_query(\"SELECT * FROM Team\", con)"
   ]
  },
  {
   "cell_type": "code",
   "execution_count": 24,
   "metadata": {},
   "outputs": [],
   "source": [
    "#Select Country from database\n",
    "df_Team_Attributes = pd.read_sql_query(\"SELECT * FROM Team_Attributes\", con)"
   ]
  },
  {
   "cell_type": "code",
   "execution_count": 25,
   "metadata": {},
   "outputs": [],
   "source": [
    "#Convert all to csv\n",
    "df_Country.to_csv(\"Country_Original.csv\", index=False)\n",
    "df_League.to_csv(\"League_Original.csv\", index=False)\n",
    "df_Match.to_csv(\"Match_Original.csv\", index=False)\n",
    "df_Player.to_csv(\"Player_Original.csv\", index=False)\n",
    "df_Player_Attributes.to_csv(\"Player_Attributes_Original.csv\", index=False)\n",
    "df_Team.to_csv(\"Team_Original.csv\", index=False)\n",
    "df_Team_Attributes.to_csv(\"Team_Attributes_Original.csv\", index=False)"
   ]
  }
 ],
 "metadata": {
  "kernelspec": {
   "display_name": "Python 3",
   "language": "python",
   "name": "python3"
  },
  "language_info": {
   "codemirror_mode": {
    "name": "ipython",
    "version": 3
   },
   "file_extension": ".py",
   "mimetype": "text/x-python",
   "name": "python",
   "nbconvert_exporter": "python",
   "pygments_lexer": "ipython3",
   "version": "3.7.7"
  }
 },
 "nbformat": 4,
 "nbformat_minor": 4
}
