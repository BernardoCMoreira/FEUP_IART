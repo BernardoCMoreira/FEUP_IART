{
 "cells": [
  {
   "cell_type": "code",
   "execution_count": 1,
   "metadata": {},
   "outputs": [],
   "source": [
    "import pandas as pd\n",
    "import numpy as np \n",
    "import matplotlib.pyplot as plt\n",
    "import seaborn as sns\n",
    "\n",
    "from time import time\n",
    "from sklearn.ensemble import RandomForestRegressor\n",
    "from sklearn.svm import SVR\n",
    "from sklearn.metrics import explained_variance_score, max_error, mean_squared_error, r2_score, mean_absolute_error\n",
    "from sklearn.preprocessing import LabelEncoder, StandardScaler\n",
    "from sklearn.model_selection import train_test_split\n",
    "%matplotlib inline"
   ]
  },
  {
   "cell_type": "code",
   "execution_count": 2,
   "metadata": {},
   "outputs": [],
   "source": [
    "# Read all files \n",
    "df = pd.read_csv('pre_processed_df')\n",
    "\n",
    "X = df.drop(['id', 'league_id', 'season', 'stage', 'date','dif_goals'],axis=1)\n",
    "\n",
    "y = df['dif_goals']"
   ]
  },
  {
   "cell_type": "code",
   "execution_count": 3,
   "metadata": {},
   "outputs": [],
   "source": [
    "# Dividir dados em sets de Treino e Teste \n",
    "X_train, X_test, y_train, y_test = train_test_split(X, y, test_size= 0.15)\n",
    "\n",
    "# Normalização de Dados\n",
    "sc = StandardScaler()\n",
    "X_train = sc.fit_transform(X_train)\n",
    "X_test = sc.transform(X_test)\n"
   ]
  },
  {
   "cell_type": "code",
   "execution_count": 18,
   "metadata": {},
   "outputs": [
    {
     "name": "stdout",
     "output_type": "stream",
     "text": [
      "Done in 56.924s\n"
     ]
    }
   ],
   "source": [
    "# Treinar o modelo - Árvores de Decisão\n",
    "tick = time()\n",
    "\n",
    "rfr = RandomForestRegressor(n_estimators=350)\n",
    "rfr.fit(X_train, y_train)\n",
    "prediction = rfr.predict(X_test)\n",
    "\n",
    "print(\"Done in {:.3f}s\".format(time() - tick))"
   ]
  },
  {
   "cell_type": "code",
   "execution_count": 19,
   "metadata": {},
   "outputs": [
    {
     "name": "stdout",
     "output_type": "stream",
     "text": [
      "Explained Variance Score: 0.18265007237651876\n",
      "Max Error: 6.542857142857143\n",
      "R2 Score: 0.18251880814189814\n",
      "Mean Square Error: 2.571666023383348\n",
      "Mean Absolute Error: 1.247930879207475\n"
     ]
    }
   ],
   "source": [
    "# Imprimir métricas para avaliação do desempenho do modelo\n",
    "\n",
    "print(\"Explained Variance Score:\",explained_variance_score(y_test, prediction))\n",
    "print(\"Max Error:\",max_error(y_test, prediction))\n",
    "print(\"R2 Score:\",r2_score(y_test, prediction))\n",
    "print(\"Mean Square Error:\",mean_squared_error(y_test, prediction))\n",
    "print(\"Mean Absolute Error:\",mean_absolute_error(y_test, prediction))"
   ]
  },
  {
   "cell_type": "code",
   "execution_count": null,
   "metadata": {},
   "outputs": [],
   "source": []
  }
 ],
 "metadata": {
  "kernelspec": {
   "display_name": "Python 3",
   "language": "python",
   "name": "python3"
  },
  "language_info": {
   "codemirror_mode": {
    "name": "ipython",
    "version": 3
   },
   "file_extension": ".py",
   "mimetype": "text/x-python",
   "name": "python",
   "nbconvert_exporter": "python",
   "pygments_lexer": "ipython3",
   "version": "3.7.7"
  }
 },
 "nbformat": 4,
 "nbformat_minor": 4
}
