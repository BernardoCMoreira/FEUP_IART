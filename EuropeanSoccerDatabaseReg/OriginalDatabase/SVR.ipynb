{
 "cells": [
  {
   "cell_type": "code",
   "execution_count": 1,
   "metadata": {},
   "outputs": [],
   "source": [
    "import pandas as pd\n",
    "import numpy as np \n",
    "import matplotlib.pyplot as plt\n",
    "import seaborn as sns\n",
    "\n",
    "from time import time\n",
    "from sklearn.svm import SVR\n",
    "from sklearn.metrics import explained_variance_score, max_error, mean_squared_error, r2_score, mean_absolute_error\n",
    "from sklearn.preprocessing import LabelEncoder, StandardScaler\n",
    "from sklearn.model_selection import train_test_split\n",
    "%matplotlib inline\n"
   ]
  },
  {
   "cell_type": "code",
   "execution_count": 2,
   "metadata": {},
   "outputs": [],
   "source": [
    "# Read all files \n",
    "df = pd.read_csv('pre_processed_df')\n",
    "\n",
    "X = df.drop(['id', 'league_id', 'season', 'stage', 'date','dif_goals'],axis=1)\n",
    "\n",
    "y = df['dif_goals']"
   ]
  },
  {
   "cell_type": "code",
   "execution_count": 3,
   "metadata": {},
   "outputs": [],
   "source": [
    "# Dividir dados em sets de Treino e Teste \n",
    "X_train, X_test, y_train, y_test = train_test_split(X, y, test_size= 0.15)\n",
    "\n",
    "# Normalização de Dados\n",
    "sc = StandardScaler()\n",
    "X_train = sc.fit_transform(X_train)\n",
    "X_test = sc.transform(X_test)"
   ]
  },
  {
   "cell_type": "code",
   "execution_count": 4,
   "metadata": {},
   "outputs": [
    {
     "name": "stdout",
     "output_type": "stream",
     "text": [
      "Done in 11.236s\n"
     ]
    }
   ],
   "source": [
    "# Treinar o modelo - SVR\n",
    "tick = time()\n",
    "\n",
    "svr= SVR()\n",
    "svr.fit(X_train, y_train)\n",
    "y_pred = svr.predict(X_test)\n",
    "\n",
    "print(\"Done in {:.3f}s\".format(time() - tick))"
   ]
  },
  {
   "cell_type": "code",
   "execution_count": 5,
   "metadata": {},
   "outputs": [
    {
     "name": "stdout",
     "output_type": "stream",
     "text": [
      "Explained Variance Score: 0.20077219284504033\n",
      "Max Error: 8.905726285134154\n",
      "R2 Score: 0.20026090759940351\n",
      "Mean Square Error: 2.7334973428185503\n",
      "Mean Absolute Error: 1.2795082525716794\n"
     ]
    }
   ],
   "source": [
    "print(\"Explained Variance Score:\",explained_variance_score(y_test, y_pred))\n",
    "print(\"Max Error:\",max_error(y_test, y_pred))\n",
    "print(\"R2 Score:\",r2_score(y_test, y_pred))\n",
    "print(\"Mean Square Error:\",mean_squared_error(y_test, y_pred))\n",
    "print(\"Mean Absolute Error:\",mean_absolute_error(y_test, y_pred))"
   ]
  }
 ],
 "metadata": {
  "kernelspec": {
   "display_name": "Python 3",
   "language": "python",
   "name": "python3"
  },
  "language_info": {
   "codemirror_mode": {
    "name": "ipython",
    "version": 3
   },
   "file_extension": ".py",
   "mimetype": "text/x-python",
   "name": "python",
   "nbconvert_exporter": "python",
   "pygments_lexer": "ipython3",
   "version": "3.7.7"
  }
 },
 "nbformat": 4,
 "nbformat_minor": 4
}
